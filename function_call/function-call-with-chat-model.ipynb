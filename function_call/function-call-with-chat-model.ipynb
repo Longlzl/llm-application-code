{
 "cells": [
  {
   "cell_type": "markdown",
   "source": [
    "# 如何使用聊天模型调用函数"
   ],
   "metadata": {
    "collapsed": false
   },
   "id": "87d62fb108fac0ad"
  },
  {
   "cell_type": "markdown",
   "source": [
    "<a href=\"https://colab.research.google.com/github/qxr777/llm-application-code/blob/master/function_call/function-call-with-chat-model.ipynb\" target=\"_parent\">Open In Colab</a>"
   ],
   "metadata": {
    "collapsed": false
   },
   "id": "77937a0e880d2c6d"
  },
  {
   "cell_type": "markdown",
   "source": [
    "## 如何生成函数参数"
   ],
   "metadata": {
    "collapsed": false
   },
   "id": "e2ef2f9ff44dfdfb"
  },
  {
   "cell_type": "code",
   "execution_count": 2,
   "outputs": [
    {
     "name": "stdout",
     "output_type": "stream",
     "text": [
      "Looking in indexes: https://mirrors.aliyun.com/pypi/simple/\r\n",
      "Collecting scipy\r\n",
      "  Downloading https://mirrors.aliyun.com/pypi/packages/c3/32/7915195ca4643508fe9730691eaed57b879646279572b10b02bdadf165c5/scipy-1.12.0-cp311-cp311-macosx_10_9_x86_64.whl (38.9 MB)\r\n",
      "\u001B[2K     \u001B[90m━━━━━━━━━━━━━━━━━━━━━━━━━━━━━━━━━━━━━━━\u001B[0m \u001B[32m38.9/38.9 MB\u001B[0m \u001B[31m698.2 kB/s\u001B[0m eta \u001B[36m0:00:00\u001B[0m00:01\u001B[0m00:02\u001B[0m\r\n",
      "\u001B[?25hRequirement already satisfied: numpy<1.29.0,>=1.22.4 in /Users/qixin/PycharmProjects/llm-application-code/venv/lib/python3.11/site-packages (from scipy) (1.26.4)\r\n",
      "Installing collected packages: scipy\r\n",
      "Successfully installed scipy-1.12.0\r\n",
      "Looking in indexes: https://mirrors.aliyun.com/pypi/simple/\r\n",
      "Requirement already satisfied: tenacity in /Users/qixin/PycharmProjects/llm-application-code/venv/lib/python3.11/site-packages (8.2.3)\r\n",
      "Looking in indexes: https://mirrors.aliyun.com/pypi/simple/\r\n",
      "Requirement already satisfied: tiktoken in /Users/qixin/PycharmProjects/llm-application-code/venv/lib/python3.11/site-packages (0.6.0)\r\n",
      "Requirement already satisfied: regex>=2022.1.18 in /Users/qixin/PycharmProjects/llm-application-code/venv/lib/python3.11/site-packages (from tiktoken) (2023.12.25)\r\n",
      "Requirement already satisfied: requests>=2.26.0 in /Users/qixin/PycharmProjects/llm-application-code/venv/lib/python3.11/site-packages (from tiktoken) (2.31.0)\r\n",
      "Requirement already satisfied: charset-normalizer<4,>=2 in /Users/qixin/PycharmProjects/llm-application-code/venv/lib/python3.11/site-packages (from requests>=2.26.0->tiktoken) (3.3.2)\r\n",
      "Requirement already satisfied: idna<4,>=2.5 in /Users/qixin/PycharmProjects/llm-application-code/venv/lib/python3.11/site-packages (from requests>=2.26.0->tiktoken) (3.6)\r\n",
      "Requirement already satisfied: urllib3<3,>=1.21.1 in /Users/qixin/PycharmProjects/llm-application-code/venv/lib/python3.11/site-packages (from requests>=2.26.0->tiktoken) (2.2.1)\r\n",
      "Requirement already satisfied: certifi>=2017.4.17 in /Users/qixin/PycharmProjects/llm-application-code/venv/lib/python3.11/site-packages (from requests>=2.26.0->tiktoken) (2024.2.2)\r\n",
      "Looking in indexes: https://mirrors.aliyun.com/pypi/simple/\r\n",
      "Collecting termcolor\r\n",
      "  Downloading https://mirrors.aliyun.com/pypi/packages/d9/5f/8c716e47b3a50cbd7c146f45881e11d9414def768b7cd9c5e6650ec2a80a/termcolor-2.4.0-py3-none-any.whl (7.7 kB)\r\n",
      "Installing collected packages: termcolor\r\n",
      "Successfully installed termcolor-2.4.0\r\n",
      "Looking in indexes: https://mirrors.aliyun.com/pypi/simple/\r\n",
      "Requirement already satisfied: openai in /Users/qixin/PycharmProjects/llm-application-code/venv/lib/python3.11/site-packages (1.14.1)\r\n",
      "Requirement already satisfied: anyio<5,>=3.5.0 in /Users/qixin/PycharmProjects/llm-application-code/venv/lib/python3.11/site-packages (from openai) (4.3.0)\r\n",
      "Requirement already satisfied: distro<2,>=1.7.0 in /Users/qixin/PycharmProjects/llm-application-code/venv/lib/python3.11/site-packages (from openai) (1.9.0)\r\n",
      "Requirement already satisfied: httpx<1,>=0.23.0 in /Users/qixin/PycharmProjects/llm-application-code/venv/lib/python3.11/site-packages (from openai) (0.27.0)\r\n",
      "Requirement already satisfied: pydantic<3,>=1.9.0 in /Users/qixin/PycharmProjects/llm-application-code/venv/lib/python3.11/site-packages (from openai) (2.6.4)\r\n",
      "Requirement already satisfied: sniffio in /Users/qixin/PycharmProjects/llm-application-code/venv/lib/python3.11/site-packages (from openai) (1.3.1)\r\n",
      "Requirement already satisfied: tqdm>4 in /Users/qixin/PycharmProjects/llm-application-code/venv/lib/python3.11/site-packages (from openai) (4.66.2)\r\n",
      "Requirement already satisfied: typing-extensions<5,>=4.7 in /Users/qixin/PycharmProjects/llm-application-code/venv/lib/python3.11/site-packages (from openai) (4.10.0)\r\n",
      "Requirement already satisfied: idna>=2.8 in /Users/qixin/PycharmProjects/llm-application-code/venv/lib/python3.11/site-packages (from anyio<5,>=3.5.0->openai) (3.6)\r\n",
      "Requirement already satisfied: certifi in /Users/qixin/PycharmProjects/llm-application-code/venv/lib/python3.11/site-packages (from httpx<1,>=0.23.0->openai) (2024.2.2)\r\n",
      "Requirement already satisfied: httpcore==1.* in /Users/qixin/PycharmProjects/llm-application-code/venv/lib/python3.11/site-packages (from httpx<1,>=0.23.0->openai) (1.0.4)\r\n",
      "Requirement already satisfied: h11<0.15,>=0.13 in /Users/qixin/PycharmProjects/llm-application-code/venv/lib/python3.11/site-packages (from httpcore==1.*->httpx<1,>=0.23.0->openai) (0.14.0)\r\n",
      "Requirement already satisfied: annotated-types>=0.4.0 in /Users/qixin/PycharmProjects/llm-application-code/venv/lib/python3.11/site-packages (from pydantic<3,>=1.9.0->openai) (0.6.0)\r\n",
      "Requirement already satisfied: pydantic-core==2.16.3 in /Users/qixin/PycharmProjects/llm-application-code/venv/lib/python3.11/site-packages (from pydantic<3,>=1.9.0->openai) (2.16.3)\r\n"
     ]
    }
   ],
   "source": [
    "!pip install scipy\n",
    "!pip install tenacity\n",
    "!pip install tiktoken\n",
    "!pip install termcolor \n",
    "!pip install openai"
   ],
   "metadata": {
    "collapsed": false,
    "ExecuteTime": {
     "end_time": "2024-03-17T00:01:33.844195Z",
     "start_time": "2024-03-16T23:59:33.068003Z"
    }
   },
   "id": "7e210f5cc767459"
  },
  {
   "cell_type": "code",
   "execution_count": null,
   "outputs": [],
   "source": [
    "# from dotenv import load_dotenv\n",
    "# load_dotenv()\n",
    "\n",
    "# import os\n",
    "# os.environ['OPENAI_API_KEY'] = 'sk-123456789'\n",
    "\n",
    "import os\n",
    "from google.colab import userdata\n",
    "os.environ[\"OPENAI_API_KEY\"] = userdata.get('OPENAI_API_KEY')"
   ],
   "metadata": {
    "collapsed": false
   },
   "id": "f9c8307fe7789494"
  },
  {
   "cell_type": "code",
   "execution_count": 3,
   "outputs": [],
   "source": [
    "import json\n",
    "from openai import OpenAI\n",
    "from tenacity import retry, wait_random_exponential, stop_after_attempt\n",
    "from termcolor import colored  \n",
    "\n",
    "GPT_MODEL = \"gpt-3.5-turbo-0613\"\n",
    "client = OpenAI()"
   ],
   "metadata": {
    "collapsed": false,
    "ExecuteTime": {
     "end_time": "2024-03-17T00:02:01.424084Z",
     "start_time": "2024-03-17T00:01:58.436490Z"
    }
   },
   "id": "2befabc5e01bddda"
  },
  {
   "cell_type": "markdown",
   "source": [
    "### 实用程序\n",
    "\n",
    "首先，定义几个实用程序，用于调用聊天完成 API 以及维护和跟踪对话状态。"
   ],
   "metadata": {
    "collapsed": false
   },
   "id": "a63bbcf7b83c9217"
  },
  {
   "cell_type": "code",
   "execution_count": 4,
   "outputs": [],
   "source": [
    "@retry(wait=wait_random_exponential(multiplier=1, max=40), stop=stop_after_attempt(3))\n",
    "def chat_completion_request(messages, tools=None, tool_choice=None, model=GPT_MODEL):\n",
    "    try:\n",
    "        response = client.chat.completions.create(\n",
    "            model=model,\n",
    "            messages=messages,\n",
    "            tools=tools,\n",
    "            tool_choice=tool_choice,\n",
    "        )\n",
    "        return response\n",
    "    except Exception as e:\n",
    "        print(\"Unable to generate ChatCompletion response\")\n",
    "        print(f\"Exception: {e}\")\n",
    "        return e\n"
   ],
   "metadata": {
    "collapsed": false,
    "ExecuteTime": {
     "end_time": "2024-03-17T00:03:24.767815Z",
     "start_time": "2024-03-17T00:03:24.683573Z"
    }
   },
   "id": "c0fe0c6d1c2a8974"
  },
  {
   "cell_type": "code",
   "execution_count": 5,
   "outputs": [],
   "source": [
    "def pretty_print_conversation(messages):\n",
    "    role_to_color = {\n",
    "        \"system\": \"red\",\n",
    "        \"user\": \"green\",\n",
    "        \"assistant\": \"blue\",\n",
    "        \"function\": \"magenta\",\n",
    "    }\n",
    "    \n",
    "    for message in messages:\n",
    "        if message[\"role\"] == \"system\":\n",
    "            print(colored(f\"system: {message['content']}\\n\", role_to_color[message[\"role\"]]))\n",
    "        elif message[\"role\"] == \"user\":\n",
    "            print(colored(f\"user: {message['content']}\\n\", role_to_color[message[\"role\"]]))\n",
    "        elif message[\"role\"] == \"assistant\" and message.get(\"function_call\"):\n",
    "            print(colored(f\"assistant: {message['function_call']}\\n\", role_to_color[message[\"role\"]]))\n",
    "        elif message[\"role\"] == \"assistant\" and not message.get(\"function_call\"):\n",
    "            print(colored(f\"assistant: {message['content']}\\n\", role_to_color[message[\"role\"]]))\n",
    "        elif message[\"role\"] == \"function\":\n",
    "            print(colored(f\"function ({message['name']}): {message['content']}\\n\", role_to_color[message[\"role\"]]))\n"
   ],
   "metadata": {
    "collapsed": false,
    "ExecuteTime": {
     "end_time": "2024-03-17T00:03:37.920357Z",
     "start_time": "2024-03-17T00:03:37.405996Z"
    }
   },
   "id": "ed59817e0f8aced4"
  },
  {
   "cell_type": "markdown",
   "source": [
    "### 基本概念\n",
    "\n",
    "让创建一些函数规范来连接假想的天气 API。将这些函数规范传递给聊天完成 API，以便生成符合规范的函数参数。"
   ],
   "metadata": {
    "collapsed": false
   },
   "id": "e223f00685fc43e2"
  },
  {
   "cell_type": "code",
   "execution_count": 6,
   "outputs": [],
   "source": [
    "tools = [\n",
    "    {\n",
    "        \"type\": \"function\",\n",
    "        \"function\": {\n",
    "            \"name\": \"get_current_weather\",\n",
    "            \"description\": \"Get the current weather\",\n",
    "            \"parameters\": {\n",
    "                \"type\": \"object\",\n",
    "                \"properties\": {\n",
    "                    \"location\": {\n",
    "                        \"type\": \"string\",\n",
    "                        \"description\": \"The city and state, e.g. San Francisco, CA\",\n",
    "                    },\n",
    "                    \"format\": {\n",
    "                        \"type\": \"string\",\n",
    "                        \"enum\": [\"celsius\", \"fahrenheit\"],\n",
    "                        \"description\": \"The temperature unit to use. Infer this from the users location.\",\n",
    "                    },\n",
    "                },\n",
    "                \"required\": [\"location\", \"format\"],\n",
    "            },\n",
    "        }\n",
    "    },\n",
    "    {\n",
    "        \"type\": \"function\",\n",
    "        \"function\": {\n",
    "            \"name\": \"get_n_day_weather_forecast\",\n",
    "            \"description\": \"Get an N-day weather forecast\",\n",
    "            \"parameters\": {\n",
    "                \"type\": \"object\",\n",
    "                \"properties\": {\n",
    "                    \"location\": {\n",
    "                        \"type\": \"string\",\n",
    "                        \"description\": \"The city and state, e.g. San Francisco, CA\",\n",
    "                    },\n",
    "                    \"format\": {\n",
    "                        \"type\": \"string\",\n",
    "                        \"enum\": [\"celsius\", \"fahrenheit\"],\n",
    "                        \"description\": \"The temperature unit to use. Infer this from the users location.\",\n",
    "                    },\n",
    "                    \"num_days\": {\n",
    "                        \"type\": \"integer\",\n",
    "                        \"description\": \"The number of days to forecast\",\n",
    "                    }\n",
    "                },\n",
    "                \"required\": [\"location\", \"format\", \"num_days\"]\n",
    "            },\n",
    "        }\n",
    "    },\n",
    "]"
   ],
   "metadata": {
    "collapsed": false,
    "ExecuteTime": {
     "end_time": "2024-03-17T00:05:00.582180Z",
     "start_time": "2024-03-17T00:05:00.434368Z"
    }
   },
   "id": "debd502ab0b6390"
  },
  {
   "cell_type": "code",
   "execution_count": 7,
   "outputs": [
    {
     "data": {
      "text/plain": "ChatCompletionMessage(content='Sure, I can help you with that. Could you please provide me with your location?', role='assistant', function_call=None, tool_calls=None)"
     },
     "execution_count": 7,
     "metadata": {},
     "output_type": "execute_result"
    }
   ],
   "source": [
    "messages = []\n",
    "messages.append({\"role\": \"system\", \"content\": \"Don't make assumptions about what values to plug into functions. Ask for clarification if a user request is ambiguous.\"})\n",
    "messages.append({\"role\": \"user\", \"content\": \"What's the weather like today\"})\n",
    "chat_response = chat_completion_request(\n",
    "    messages, tools=tools\n",
    ")\n",
    "assistant_message = chat_response.choices[0].message\n",
    "messages.append(assistant_message)\n",
    "assistant_message\n"
   ],
   "metadata": {
    "collapsed": false,
    "ExecuteTime": {
     "end_time": "2024-03-17T00:05:20.928378Z",
     "start_time": "2024-03-17T00:05:18.314707Z"
    }
   },
   "id": "45a4ca2eddbf88c5"
  },
  {
   "cell_type": "markdown",
   "source": [
    "一旦提供了缺失的信息，它就会为我们生成相应的函数参数。"
   ],
   "metadata": {
    "collapsed": false
   },
   "id": "e15e301a41aff75b"
  },
  {
   "cell_type": "code",
   "execution_count": 8,
   "outputs": [
    {
     "data": {
      "text/plain": "ChatCompletionMessage(content=None, role='assistant', function_call=None, tool_calls=[ChatCompletionMessageToolCall(id='call_MgAMyBMWxpTgTWIp44gluwU7', function=Function(arguments='{\\n  \"location\": \"Glasgow, Scotland\",\\n  \"format\": \"celsius\"\\n}', name='get_current_weather'), type='function')])"
     },
     "execution_count": 8,
     "metadata": {},
     "output_type": "execute_result"
    }
   ],
   "source": [
    "messages.append({\"role\": \"user\", \"content\": \"I'm in Glasgow, Scotland.\"})\n",
    "chat_response = chat_completion_request(\n",
    "    messages, tools=tools\n",
    ")\n",
    "assistant_message = chat_response.choices[0].message\n",
    "messages.append(assistant_message)\n",
    "assistant_message\n"
   ],
   "metadata": {
    "collapsed": false,
    "ExecuteTime": {
     "end_time": "2024-03-17T00:06:34.769617Z",
     "start_time": "2024-03-17T00:06:33.093322Z"
    }
   },
   "id": "a490a24075f83ddb"
  },
  {
   "cell_type": "markdown",
   "source": [
    "通过不同的Prompt，可以让它以我们告诉它的其他function为目标。"
   ],
   "metadata": {
    "collapsed": false
   },
   "id": "d854296e534e1598"
  },
  {
   "cell_type": "code",
   "execution_count": 9,
   "outputs": [
    {
     "data": {
      "text/plain": "ChatCompletionMessage(content='Sure, I can check the weather forecast for you. Just to clarify, could you let me know how many days ahead you would like to know the weather for?', role='assistant', function_call=None, tool_calls=None)"
     },
     "execution_count": 9,
     "metadata": {},
     "output_type": "execute_result"
    }
   ],
   "source": [
    "messages = []\n",
    "messages.append({\"role\": \"system\", \"content\": \"Don't make assumptions about what values to plug into functions. Ask for clarification if a user request is ambiguous.\"})\n",
    "messages.append({\"role\": \"user\", \"content\": \"what is the weather going to be like in Glasgow, Scotland over the next x days\"})\n",
    "chat_response = chat_completion_request(\n",
    "    messages, tools=tools\n",
    ")\n",
    "assistant_message = chat_response.choices[0].message\n",
    "messages.append(assistant_message)\n",
    "assistant_message\n"
   ],
   "metadata": {
    "collapsed": false,
    "ExecuteTime": {
     "end_time": "2024-03-17T00:08:07.893028Z",
     "start_time": "2024-03-17T00:08:06.286077Z"
    }
   },
   "id": "814f3a1ef446d22f"
  },
  {
   "cell_type": "markdown",
   "source": [
    "模型再次要求我们澄清，因为它还没有掌握足够的信息。在这种情况下，它已经知道了预报的位置，但还需要知道预报需要多少天。"
   ],
   "metadata": {
    "collapsed": false
   },
   "id": "22051ef35a935e63"
  },
  {
   "cell_type": "code",
   "execution_count": 10,
   "outputs": [
    {
     "data": {
      "text/plain": "Choice(finish_reason='tool_calls', index=0, logprobs=None, message=ChatCompletionMessage(content=None, role='assistant', function_call=None, tool_calls=[ChatCompletionMessageToolCall(id='call_SztAOw9VRVb4B3m6uSgvp6jO', function=Function(arguments='{\\n  \"location\": \"Glasgow, Scotland\",\\n  \"format\": \"celsius\",\\n  \"num_days\": 5\\n}', name='get_n_day_weather_forecast'), type='function')]))"
     },
     "execution_count": 10,
     "metadata": {},
     "output_type": "execute_result"
    }
   ],
   "source": [
    "messages.append({\"role\": \"user\", \"content\": \"5 days\"})\n",
    "chat_response = chat_completion_request(\n",
    "    messages, tools=tools\n",
    ")\n",
    "chat_response.choices[0]\n"
   ],
   "metadata": {
    "collapsed": false,
    "ExecuteTime": {
     "end_time": "2024-03-17T00:09:19.361140Z",
     "start_time": "2024-03-17T00:09:17.374913Z"
    }
   },
   "id": "307f69ad3d4b4b73"
  },
  {
   "cell_type": "markdown",
   "source": [
    "#### 强制使用特定function或不使用任何function"
   ],
   "metadata": {
    "collapsed": false
   },
   "id": "d75e6a04396174b4"
  },
  {
   "cell_type": "markdown",
   "source": [
    "可以使用 function_call 参数强制模型使用特定函数，例如 get_n_day_weather_forecast。通过这样做，可以强制模型对如何使用该函数做出假设。"
   ],
   "metadata": {
    "collapsed": false
   },
   "id": "ee149c3c7dc2d865"
  },
  {
   "cell_type": "code",
   "execution_count": 11,
   "outputs": [
    {
     "data": {
      "text/plain": "ChatCompletionMessage(content=None, role='assistant', function_call=None, tool_calls=[ChatCompletionMessageToolCall(id='call_fRRr5QIktvL43OsvScVY9GzH', function=Function(arguments='{\\n  \"location\": \"Toronto, Canada\",\\n  \"format\": \"celsius\",\\n  \"num_days\": 1\\n}', name='get_n_day_weather_forecast'), type='function')])"
     },
     "execution_count": 11,
     "metadata": {},
     "output_type": "execute_result"
    }
   ],
   "source": [
    "# in this cell we force the model to use get_n_day_weather_forecast\n",
    "messages = []\n",
    "messages.append({\"role\": \"system\", \"content\": \"Don't make assumptions about what values to plug into functions. Ask for clarification if a user request is ambiguous.\"})\n",
    "messages.append({\"role\": \"user\", \"content\": \"Give me a weather report for Toronto, Canada.\"})\n",
    "chat_response = chat_completion_request(\n",
    "    messages, tools=tools, tool_choice={\"type\": \"function\", \"function\": {\"name\": \"get_n_day_weather_forecast\"}}\n",
    ")\n",
    "chat_response.choices[0].message"
   ],
   "metadata": {
    "collapsed": false,
    "ExecuteTime": {
     "end_time": "2024-03-17T00:12:00.660475Z",
     "start_time": "2024-03-17T00:11:58.681301Z"
    }
   },
   "id": "8febea3c1bfd1a79"
  },
  {
   "cell_type": "markdown",
   "source": [
    "还可以强制模型完全不使用function。通过这种方法，可以防止模型产生正确的function call。"
   ],
   "metadata": {
    "collapsed": false
   },
   "id": "ab93d6ea081039df"
  },
  {
   "cell_type": "code",
   "execution_count": 12,
   "outputs": [
    {
     "data": {
      "text/plain": "ChatCompletionMessage(content='{\\n  \"location\": \"Toronto, Canada\",\\n  \"format\": \"celsius\"\\n}', role='assistant', function_call=None, tool_calls=None)"
     },
     "execution_count": 12,
     "metadata": {},
     "output_type": "execute_result"
    }
   ],
   "source": [
    "messages = []\n",
    "messages.append({\"role\": \"system\", \"content\": \"Don't make assumptions about what values to plug into functions. Ask for clarification if a user request is ambiguous.\"})\n",
    "messages.append({\"role\": \"user\", \"content\": \"Give me the current weather (use Celcius) for Toronto, Canada.\"})\n",
    "chat_response = chat_completion_request(\n",
    "    messages, tools=tools, tool_choice=\"none\"\n",
    ")\n",
    "chat_response.choices[0].message"
   ],
   "metadata": {
    "collapsed": false,
    "ExecuteTime": {
     "end_time": "2024-03-17T00:19:34.109948Z",
     "start_time": "2024-03-17T00:19:32.609024Z"
    }
   },
   "id": "56fc22943209fcf3"
  },
  {
   "cell_type": "markdown",
   "source": [
    "### 并行函数调用\n",
    "\n",
    "较新的版本，如 gpt-4-1106-preview 或 gpt-3.5-turbo-1106 可以在一轮中调用多个函数。"
   ],
   "metadata": {
    "collapsed": false
   },
   "id": "73274f308a35d952"
  },
  {
   "cell_type": "code",
   "execution_count": 13,
   "outputs": [
    {
     "data": {
      "text/plain": "[ChatCompletionMessageToolCall(id='call_JfpLRVdhcIZFII41uNvQgn6P', function=Function(arguments='{\"location\": \"San Francisco, CA\", \"format\": \"celsius\", \"num_days\": 4}', name='get_n_day_weather_forecast'), type='function'),\n ChatCompletionMessageToolCall(id='call_kRoUqphAwliR0so5BsqHB2ob', function=Function(arguments='{\"location\": \"Glasgow\", \"format\": \"celsius\", \"num_days\": 4}', name='get_n_day_weather_forecast'), type='function')]"
     },
     "execution_count": 13,
     "metadata": {},
     "output_type": "execute_result"
    }
   ],
   "source": [
    "messages = []\n",
    "messages.append({\"role\": \"system\", \"content\": \"Don't make assumptions about what values to plug into functions. Ask for clarification if a user request is ambiguous.\"})\n",
    "messages.append({\"role\": \"user\", \"content\": \"what is the weather going to be like in San Francisco and Glasgow over the next 4 days\"})\n",
    "chat_response = chat_completion_request(\n",
    "    messages, tools=tools, model='gpt-3.5-turbo-1106'\n",
    ")\n",
    "\n",
    "assistant_message = chat_response.choices[0].message.tool_calls\n",
    "assistant_message"
   ],
   "metadata": {
    "collapsed": false,
    "ExecuteTime": {
     "end_time": "2024-03-17T00:21:54.394143Z",
     "start_time": "2024-03-17T00:21:53.051716Z"
    }
   },
   "id": "94c840b70157297f"
  }
 ],
 "metadata": {
  "kernelspec": {
   "display_name": "Python 3",
   "language": "python",
   "name": "python3"
  },
  "language_info": {
   "codemirror_mode": {
    "name": "ipython",
    "version": 2
   },
   "file_extension": ".py",
   "mimetype": "text/x-python",
   "name": "python",
   "nbconvert_exporter": "python",
   "pygments_lexer": "ipython2",
   "version": "2.7.6"
  }
 },
 "nbformat": 4,
 "nbformat_minor": 5
}
