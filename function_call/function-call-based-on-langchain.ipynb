{
 "cells": [
  {
   "cell_type": "markdown",
   "source": [
    "### 基于LangChain框架使用函数调用"
   ],
   "metadata": {
    "collapsed": false
   },
   "id": "de15b15c693d87db"
  },
  {
   "cell_type": "code",
   "execution_count": 1,
   "outputs": [],
   "source": [
    "!pip install langchain openai langchain-openai --upgrade --quiet"
   ],
   "metadata": {
    "collapsed": false,
    "ExecuteTime": {
     "end_time": "2024-03-16T14:45:57.422364Z",
     "start_time": "2024-03-16T14:45:45.511915Z"
    }
   },
   "id": "5c5c058f6e2dc05a"
  },
  {
   "cell_type": "markdown",
   "source": [
    "<a href=\"https://colab.research.google.com/github/qxr777/llm-application-code/blob/master/function_call/function-call-based-on-langchain.ipynb\" target=\"_parent\">Open In Colab</a>"
   ],
   "metadata": {
    "collapsed": false
   },
   "id": "6fba03f840f02ecb"
  },
  {
   "cell_type": "code",
   "execution_count": 2,
   "outputs": [
    {
     "data": {
      "text/plain": "True"
     },
     "execution_count": 2,
     "metadata": {},
     "output_type": "execute_result"
    }
   ],
   "source": [
    "# 三选一 加载OPENAI_API_KEY\n",
    "\n",
    "# 本地运行，包含.env文件\n",
    "# from dotenv import load_dotenv\n",
    "# load_dotenv()\n",
    "\n",
    "# 本地运行，不包含.env文件\n",
    "# import os\n",
    "# os.environ['OPENAI_API_KEY'] = 'sk-123456789'\n",
    "\n",
    "# google colab运行，需要配置secret key\n",
    "import os\n",
    "from google.colab import userdata\n",
    "os.environ[\"OPENAI_API_KEY\"] = userdata.get('OPENAI_API_KEY')"
   ],
   "metadata": {
    "collapsed": false,
    "ExecuteTime": {
     "end_time": "2024-03-16T14:45:57.479952Z",
     "start_time": "2024-03-16T14:45:57.433671Z"
    }
   },
   "id": "e698bd119fa6fbad"
  },
  {
   "cell_type": "code",
   "execution_count": 1,
   "outputs": [],
   "source": [
    "from langchain_openai import ChatOpenAI\n",
    "from langchain.schema import HumanMessage, AIMessage, ChatMessage\n",
    "from langchain.tools import YouTubeSearchTool\n",
    "from langchain_core.utils.function_calling import convert_to_openai_function"
   ],
   "metadata": {
    "collapsed": false,
    "ExecuteTime": {
     "end_time": "2024-03-19T01:16:31.396950Z",
     "start_time": "2024-03-19T01:16:28.791955Z"
    }
   },
   "id": "ade5715506481fcd"
  },
  {
   "cell_type": "code",
   "execution_count": 2,
   "outputs": [],
   "source": [
    "model = 'gpt-3.5-turbo-0613'\n",
    "llm = ChatOpenAI(model=model)"
   ],
   "metadata": {
    "collapsed": false,
    "ExecuteTime": {
     "end_time": "2024-03-19T01:16:36.535636Z",
     "start_time": "2024-03-19T01:16:34.775978Z"
    }
   },
   "id": "b9662d1c4ce970e3"
  },
  {
   "cell_type": "markdown",
   "source": [
    "#### LangChain工具(Tool)的OpenAI函数调用能力"
   ],
   "metadata": {
    "collapsed": false
   },
   "id": "b6deac93ecea4ede"
  },
  {
   "cell_type": "markdown",
   "source": [
    "### 示例一：调用LangChain提供的工具"
   ],
   "metadata": {
    "collapsed": false
   },
   "id": "74d7dd1f6f486e4b"
  },
  {
   "cell_type": "code",
   "execution_count": 3,
   "outputs": [
    {
     "data": {
      "text/plain": "[{'name': 'youtube_search',\n  'description': 'search for youtube videos associated with a person. the input to this tool should be a comma separated list, the first part contains a person name and the second a number that is the maximum number of video results to return aka num_results. the second part is optional',\n  'parameters': {'properties': {'__arg1': {'title': '__arg1',\n     'type': 'string'}},\n   'required': ['__arg1'],\n   'type': 'object'}}]"
     },
     "execution_count": 3,
     "metadata": {},
     "output_type": "execute_result"
    }
   ],
   "source": [
    "tools = [YouTubeSearchTool()]\n",
    "functions = [convert_to_openai_function(t) for t in tools]\n",
    "functions"
   ],
   "metadata": {
    "collapsed": false,
    "ExecuteTime": {
     "end_time": "2024-03-19T01:16:44.296116Z",
     "start_time": "2024-03-19T01:16:43.486891Z"
    }
   },
   "id": "bd6c1841299cc235"
  },
  {
   "cell_type": "code",
   "execution_count": 4,
   "outputs": [
    {
     "data": {
      "text/plain": "AIMessage(content='', additional_kwargs={'function_call': {'arguments': '{\\n  \"__arg1\": \"OpenAI\"\\n}', 'name': 'youtube_search'}}, response_metadata={'finish_reason': 'function_call', 'logprobs': None})"
     },
     "execution_count": 4,
     "metadata": {},
     "output_type": "execute_result"
    }
   ],
   "source": [
    "message = llm.invoke([HumanMessage(content='search videos in the topic of OpenAI on Youtube')], functions=functions)\n",
    "message"
   ],
   "metadata": {
    "collapsed": false,
    "ExecuteTime": {
     "end_time": "2024-03-19T01:17:18.300830Z",
     "start_time": "2024-03-19T01:17:16.118574Z"
    }
   },
   "id": "53bee6bd758eb4e2"
  },
  {
   "cell_type": "markdown",
   "source": [
    "### 示例二：调用自定义的工具"
   ],
   "metadata": {
    "collapsed": false
   },
   "id": "ea528762e37a01e1"
  },
  {
   "cell_type": "code",
   "execution_count": 9,
   "outputs": [],
   "source": [
    "function_descriptions = [\n",
    "    {\n",
    "        \"name\": \"remove_word_from_string\",\n",
    "        \"description\": \"Remove a word from a string by given its index\",\n",
    "        \"parameters\": {\n",
    "            \"type\": \"object\",\n",
    "            \"properties\": {\n",
    "                \"string\": {\n",
    "                    \"type\": \"string\",\n",
    "                    \"description\": \"The original string to be processed\",\n",
    "                },\n",
    "                \"index\": {\n",
    "                    \"type\": \"integer\",\n",
    "                    \"description\": \"The index of the word to be removed\"\n",
    "                },\n",
    "            },\n",
    "            \"required\": [\n",
    "                \"string\",\n",
    "                \"index\"\n",
    "            ],\n",
    "        },\n",
    "    },\n",
    "    {\n",
    "        \"name\": \"send_message_by_email\",\n",
    "        \"description\": \"Send an email with the text message to a recipient\",\n",
    "        \"parameters\": {\n",
    "            \"type\": \"object\",\n",
    "            \"properties\": {\n",
    "                \"recipient\": {\n",
    "                    \"type\": \"string\",\n",
    "                    \"description\": \"The email address of the recipient\",\n",
    "                },\n",
    "                \"message\": {\n",
    "                    \"type\": \"string\",\n",
    "                    \"description\": \"The message of the email content\",\n",
    "                }\n",
    "            },\n",
    "            \"required\": [\n",
    "                \"recipient\",\n",
    "                \"message\"\n",
    "            ],\n",
    "        },\n",
    "    }\n",
    "]"
   ],
   "metadata": {
    "collapsed": false,
    "ExecuteTime": {
     "end_time": "2024-03-19T01:20:20.083648Z",
     "start_time": "2024-03-19T01:20:20.035857Z"
    }
   },
   "id": "d9f68a8e76dcd56f"
  },
  {
   "cell_type": "code",
   "execution_count": 10,
   "outputs": [],
   "source": [
    "question = \"\"\"\n",
    "I have a string as follows:\n",
    "\n",
    "black yellow red blue green\n",
    "\n",
    "Please do the following 2 operations on it:\n",
    "1. Remove the third word in the string\n",
    "2. Send the updated string to Alex via email alex@xyz.com\n",
    "\"\"\""
   ],
   "metadata": {
    "collapsed": false,
    "ExecuteTime": {
     "end_time": "2024-03-19T01:20:21.899550Z",
     "start_time": "2024-03-19T01:20:21.848505Z"
    }
   },
   "id": "a22315440ab812da"
  },
  {
   "cell_type": "code",
   "execution_count": 11,
   "outputs": [],
   "source": [
    "import inspect\n",
    "\n",
    "def get_function_parameter_names(function):\n",
    "    \"\"\"\n",
    "    获取指定函数的参数名列表。\n",
    "    \n",
    "    参数:\n",
    "    function - 需要获取参数名的函数对象。\n",
    "    \n",
    "    返回值:\n",
    "    如果函数参数有效，则返回一个包含所有参数名的列表；否则返回None。\n",
    "    \"\"\"\n",
    "    if function is not None and inspect.isfunction(function):\n",
    "        # 如果传入的对象是函数，获取其参数名\n",
    "        parameter_names = inspect.signature(function).parameters.keys()\n",
    "        return list(parameter_names)\n",
    "    else:\n",
    "        # 如果传入的对象不是函数，返回None\n",
    "        return None\n"
   ],
   "metadata": {
    "collapsed": false,
    "ExecuteTime": {
     "end_time": "2024-03-19T01:20:22.713714Z",
     "start_time": "2024-03-19T01:20:22.667797Z"
    }
   },
   "id": "9ecb63fb0778b269"
  },
  {
   "cell_type": "code",
   "execution_count": 12,
   "outputs": [],
   "source": [
    "def remove_word_from_string(string, index):\n",
    "    words = string.split()\n",
    "\n",
    "    if 0 <= index < len(words):\n",
    "        del words[index]\n",
    "\n",
    "        return ' '.join(words)\n",
    "    else:\n",
    "        return string\n",
    "\n",
    "def send_message_by_email(recipient, message):\n",
    "    print(f'Sending {message} to {recipient}')\n",
    "    return f'Just sent email to {recipient}'"
   ],
   "metadata": {
    "collapsed": false,
    "ExecuteTime": {
     "end_time": "2024-03-19T01:20:25.036577Z",
     "start_time": "2024-03-19T01:20:24.990120Z"
    }
   },
   "id": "b193bfb5330fa2c8"
  },
  {
   "cell_type": "code",
   "execution_count": 13,
   "outputs": [
    {
     "data": {
      "text/plain": "AIMessage(content='', additional_kwargs={'function_call': {'arguments': '{\\n  \"string\": \"black yellow red blue green\",\\n  \"index\": 2\\n}', 'name': 'remove_word_from_string'}}, response_metadata={'finish_reason': 'function_call', 'logprobs': None})"
     },
     "execution_count": 13,
     "metadata": {},
     "output_type": "execute_result"
    }
   ],
   "source": [
    "first_response = llm.invoke([HumanMessage(content=question)], functions=function_descriptions)\n",
    "first_response"
   ],
   "metadata": {
    "collapsed": false,
    "ExecuteTime": {
     "end_time": "2024-03-19T01:20:29.430298Z",
     "start_time": "2024-03-19T01:20:27.430795Z"
    }
   },
   "id": "7d8f1593a9d1124a"
  },
  {
   "cell_type": "code",
   "execution_count": 14,
   "outputs": [
    {
     "data": {
      "text/plain": "'black yellow blue green'"
     },
     "execution_count": 14,
     "metadata": {},
     "output_type": "execute_result"
    }
   ],
   "source": [
    "# Get function name, and its arguments\n",
    "import json\n",
    "\n",
    "function_name = first_response.additional_kwargs[\"function_call\"][\"name\"]\n",
    "arguments = json.loads(first_response.additional_kwargs[\"function_call\"][\"arguments\"])\n",
    "\n",
    "# Locate the function and make the call\n",
    "the_function = globals().get(function_name)\n",
    "parameter_names = get_function_parameter_names(the_function)\n",
    "parameter_values = []\n",
    "for parameter_name in parameter_names:\n",
    "    parameter_values.append(arguments[parameter_name])\n",
    "\n",
    "returned_value = the_function(*parameter_values)\n",
    "returned_value"
   ],
   "metadata": {
    "collapsed": false,
    "ExecuteTime": {
     "end_time": "2024-03-19T01:20:55.144099Z",
     "start_time": "2024-03-19T01:20:55.096891Z"
    }
   },
   "id": "1b2510d1e37df5c8"
  },
  {
   "cell_type": "code",
   "execution_count": 15,
   "outputs": [
    {
     "data": {
      "text/plain": "AIMessage(content='The updated string after removing the third word is: \"black yellow blue green\".\\n\\nNow, I will send the updated string to Alex via email.', additional_kwargs={'function_call': {'arguments': '{\\n  \"recipient\": \"alex@xyz.com\",\\n  \"message\": \"black yellow blue green\"\\n}', 'name': 'send_message_by_email'}}, response_metadata={'finish_reason': 'function_call', 'logprobs': None})"
     },
     "execution_count": 15,
     "metadata": {},
     "output_type": "execute_result"
    }
   ],
   "source": [
    "second_response = llm.invoke(\n",
    "    [\n",
    "        HumanMessage(content=question),\n",
    "        AIMessage(content=str(first_response.additional_kwargs)),\n",
    "        ChatMessage(\n",
    "            role='function',\n",
    "            additional_kwargs = {'name': function_name},\n",
    "            content = returned_value\n",
    "        )\n",
    "    ],\n",
    "    functions=function_descriptions\n",
    ")\n",
    "second_response"
   ],
   "metadata": {
    "collapsed": false,
    "ExecuteTime": {
     "end_time": "2024-03-19T01:21:10.734964Z",
     "start_time": "2024-03-19T01:21:08.021053Z"
    }
   },
   "id": "38e57a0b05001e1c"
  },
  {
   "cell_type": "code",
   "execution_count": 16,
   "outputs": [
    {
     "name": "stdout",
     "output_type": "stream",
     "text": [
      "Sending black yellow blue green to alex@xyz.com\n"
     ]
    },
    {
     "data": {
      "text/plain": "'Just sent email to alex@xyz.com'"
     },
     "execution_count": 16,
     "metadata": {},
     "output_type": "execute_result"
    }
   ],
   "source": [
    "# Again get function name, and its arguments\n",
    "\n",
    "function_name = second_response.additional_kwargs[\"function_call\"][\"name\"]\n",
    "arguments = json.loads(second_response.additional_kwargs[\"function_call\"][\"arguments\"])\n",
    "\n",
    "# Locate the function and make the call\n",
    "the_function = globals().get(function_name)\n",
    "parameter_names = get_function_parameter_names(the_function)\n",
    "parameter_values = []\n",
    "for parameter_name in parameter_names:\n",
    "  parameter_values.append(arguments[parameter_name])\n",
    "\n",
    "returned_value = the_function(*parameter_values)\n",
    "returned_value"
   ],
   "metadata": {
    "collapsed": false,
    "ExecuteTime": {
     "end_time": "2024-03-19T01:21:42.340980Z",
     "start_time": "2024-03-19T01:21:42.287391Z"
    }
   },
   "id": "589d0eefbde7a441"
  },
  {
   "cell_type": "code",
   "execution_count": 17,
   "outputs": [
    {
     "data": {
      "text/plain": "AIMessage(content='I have removed the third word from the string and sent the updated string to Alex via email.', response_metadata={'finish_reason': 'stop', 'logprobs': None})"
     },
     "execution_count": 17,
     "metadata": {},
     "output_type": "execute_result"
    }
   ],
   "source": [
    "third_response = llm.invoke(\n",
    "    [\n",
    "        HumanMessage(content=question),\n",
    "        AIMessage(content=str(first_response.additional_kwargs)),\n",
    "        AIMessage(content=str(second_response.additional_kwargs)),\n",
    "        ChatMessage(\n",
    "            role='function',\n",
    "            additional_kwargs = {'name': function_name},\n",
    "            content = returned_value\n",
    "        )\n",
    "    ], functions=function_descriptions\n",
    ")\n",
    "third_response"
   ],
   "metadata": {
    "collapsed": false,
    "ExecuteTime": {
     "end_time": "2024-03-19T01:21:57.364043Z",
     "start_time": "2024-03-19T01:21:55.265447Z"
    }
   },
   "id": "7703354b4fa031f9"
  },
  {
   "cell_type": "code",
   "execution_count": 15,
   "outputs": [],
   "source": [],
   "metadata": {
    "collapsed": false,
    "ExecuteTime": {
     "end_time": "2024-03-16T14:46:33.790701Z",
     "start_time": "2024-03-16T14:46:33.715995Z"
    }
   },
   "id": "c972dd7a7eaefa8c"
  }
 ],
 "metadata": {
  "kernelspec": {
   "display_name": "Python 3",
   "language": "python",
   "name": "python3"
  },
  "language_info": {
   "codemirror_mode": {
    "name": "ipython",
    "version": 2
   },
   "file_extension": ".py",
   "mimetype": "text/x-python",
   "name": "python",
   "nbconvert_exporter": "python",
   "pygments_lexer": "ipython2",
   "version": "2.7.6"
  }
 },
 "nbformat": 4,
 "nbformat_minor": 5
}
