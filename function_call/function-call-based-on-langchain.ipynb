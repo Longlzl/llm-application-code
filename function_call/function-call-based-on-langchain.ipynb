{
 "cells": [
  {
   "cell_type": "markdown",
   "source": [
    "### 基于LangChain框架使用函数调用"
   ],
   "metadata": {
    "collapsed": false
   },
   "id": "de15b15c693d87db"
  },
  {
   "cell_type": "code",
   "execution_count": 30,
   "outputs": [],
   "source": [
    "!pip install langchain openai --upgrade --quiet"
   ],
   "metadata": {
    "collapsed": false,
    "ExecuteTime": {
     "end_time": "2024-03-15T03:43:31.609883Z",
     "start_time": "2024-03-15T03:43:24.512023Z"
    }
   },
   "id": "5c5c058f6e2dc05a"
  },
  {
   "cell_type": "markdown",
   "source": [
    "<a href=\"https://colab.research.google.com/github/qxr777/llm-application-code/blob/master/function_call/function-call-based-on-langchain.ipynb\" target=\"_parent\">Open In Colab</a>"
   ],
   "metadata": {
    "collapsed": false
   },
   "id": "6fba03f840f02ecb"
  },
  {
   "cell_type": "code",
   "execution_count": 31,
   "outputs": [
    {
     "ename": "ModuleNotFoundError",
     "evalue": "No module named 'google.colab'",
     "output_type": "error",
     "traceback": [
      "\u001B[0;31m---------------------------------------------------------------------------\u001B[0m",
      "\u001B[0;31mModuleNotFoundError\u001B[0m                       Traceback (most recent call last)",
      "Cell \u001B[0;32mIn[31], line 13\u001B[0m\n\u001B[1;32m      1\u001B[0m \u001B[38;5;66;03m# 三选一 加载OPENAI_API_KEY\u001B[39;00m\n\u001B[1;32m      2\u001B[0m \n\u001B[1;32m      3\u001B[0m \u001B[38;5;66;03m# 本地运行，包含.env文件\u001B[39;00m\n\u001B[0;32m   (...)\u001B[0m\n\u001B[1;32m     10\u001B[0m \n\u001B[1;32m     11\u001B[0m \u001B[38;5;66;03m# google colab运行，配置secret key\u001B[39;00m\n\u001B[1;32m     12\u001B[0m \u001B[38;5;28;01mimport\u001B[39;00m \u001B[38;5;21;01mos\u001B[39;00m\n\u001B[0;32m---> 13\u001B[0m \u001B[38;5;28;01mfrom\u001B[39;00m \u001B[38;5;21;01mgoogle\u001B[39;00m\u001B[38;5;21;01m.\u001B[39;00m\u001B[38;5;21;01mcolab\u001B[39;00m \u001B[38;5;28;01mimport\u001B[39;00m userdata\n\u001B[1;32m     14\u001B[0m os\u001B[38;5;241m.\u001B[39menviron[\u001B[38;5;124m\"\u001B[39m\u001B[38;5;124mOPENAI_API_KEY\u001B[39m\u001B[38;5;124m\"\u001B[39m] \u001B[38;5;241m=\u001B[39m userdata\u001B[38;5;241m.\u001B[39mget(\u001B[38;5;124m'\u001B[39m\u001B[38;5;124mOPENAI_API_KEY\u001B[39m\u001B[38;5;124m'\u001B[39m)\n",
      "\u001B[0;31mModuleNotFoundError\u001B[0m: No module named 'google.colab'"
     ]
    }
   ],
   "source": [
    "# 三选一 加载OPENAI_API_KEY\n",
    "\n",
    "# 本地运行，包含.env文件\n",
    "# from dotenv import load_dotenv\n",
    "# load_dotenv()\n",
    "\n",
    "# 本地运行，不包含.env文件\n",
    "# import os\n",
    "# os.environ['OPENAI_API_KEY'] = 'sk-123456789'\n",
    "\n",
    "# google colab运行，需要配置secret key\n",
    "import os\n",
    "from google.colab import userdata\n",
    "os.environ[\"OPENAI_API_KEY\"] = userdata.get('OPENAI_API_KEY')"
   ],
   "metadata": {
    "collapsed": false,
    "ExecuteTime": {
     "end_time": "2024-03-15T03:43:50.157003Z",
     "start_time": "2024-03-15T03:43:49.712273Z"
    }
   },
   "id": "e698bd119fa6fbad"
  },
  {
   "cell_type": "code",
   "execution_count": 29,
   "outputs": [],
   "source": [
    "from langchain_openai import ChatOpenAI\n",
    "from langchain.schema import HumanMessage, AIMessage, ChatMessage\n",
    "from langchain.tools import YouTubeSearchTool\n",
    "from langchain_core.utils.function_calling import convert_to_openai_function"
   ],
   "metadata": {
    "collapsed": false,
    "ExecuteTime": {
     "end_time": "2024-03-15T03:42:22.515001Z",
     "start_time": "2024-03-15T03:42:22.469488Z"
    }
   },
   "id": "ade5715506481fcd"
  },
  {
   "cell_type": "code",
   "execution_count": null,
   "outputs": [],
   "source": [
    "model = 'gpt-3.5-turbo-0613'\n",
    "llm = ChatOpenAI(model=model)"
   ],
   "metadata": {
    "collapsed": false,
    "ExecuteTime": {
     "start_time": "2024-03-15T03:36:17.651517Z"
    }
   },
   "id": "b9662d1c4ce970e3"
  },
  {
   "cell_type": "markdown",
   "source": [
    "#### LangChain工具(Tool)的OpenAI函数调用能力"
   ],
   "metadata": {
    "collapsed": false
   },
   "id": "b6deac93ecea4ede"
  },
  {
   "cell_type": "markdown",
   "source": [
    "### 示例一：调用LangChain提供的工具"
   ],
   "metadata": {
    "collapsed": false
   },
   "id": "74d7dd1f6f486e4b"
  },
  {
   "cell_type": "code",
   "execution_count": null,
   "outputs": [],
   "source": [
    "tools = [YouTubeSearchTool()]\n",
    "functions = [convert_to_openai_function(t) for t in tools]\n",
    "functions"
   ],
   "metadata": {
    "collapsed": false,
    "ExecuteTime": {
     "end_time": "2024-03-15T03:36:17.802983Z",
     "start_time": "2024-03-15T03:36:17.666155Z"
    }
   },
   "id": "bd6c1841299cc235"
  },
  {
   "cell_type": "code",
   "execution_count": null,
   "outputs": [],
   "source": [
    "message = llm.invoke([HumanMessage(content='search videos in the topic of OpenAI on Youtube')], functions=functions)\n",
    "message"
   ],
   "metadata": {
    "collapsed": false,
    "ExecuteTime": {
     "start_time": "2024-03-15T03:36:17.674832Z"
    }
   },
   "id": "53bee6bd758eb4e2"
  },
  {
   "cell_type": "markdown",
   "source": [
    "### 示例二：调用自定义的工具"
   ],
   "metadata": {
    "collapsed": false
   },
   "id": "ea528762e37a01e1"
  },
  {
   "cell_type": "code",
   "execution_count": null,
   "outputs": [],
   "source": [
    "function_descriptions = [\n",
    "    {\n",
    "        \"name\": \"remove_word_from_string\",\n",
    "        \"description\": \"Remove a word from a string by given its index\",\n",
    "        \"parameters\": {\n",
    "            \"type\": \"object\",\n",
    "            \"properties\": {\n",
    "                \"string\": {\n",
    "                    \"type\": \"string\",\n",
    "                    \"description\": \"The original string to be processed\",\n",
    "                },\n",
    "                \"index\": {\n",
    "                    \"type\": \"integer\",\n",
    "                    \"description\": \"The index of the word to be removed\"\n",
    "                },\n",
    "            },\n",
    "            \"required\": [\n",
    "                \"string\",\n",
    "                \"index\"\n",
    "            ],\n",
    "        },\n",
    "    },\n",
    "    {\n",
    "        \"name\": \"send_message_by_email\",\n",
    "        \"description\": \"Send an email with the text message to a recipient\",\n",
    "        \"parameters\": {\n",
    "            \"type\": \"object\",\n",
    "            \"properties\": {\n",
    "                \"recipient\": {\n",
    "                    \"type\": \"string\",\n",
    "                    \"description\": \"The email address of the recipient\",\n",
    "                },\n",
    "                \"message\": {\n",
    "                    \"type\": \"string\",\n",
    "                    \"description\": \"The message of the email content\",\n",
    "                }\n",
    "            },\n",
    "            \"required\": [\n",
    "                \"recipient\",\n",
    "                \"message\"\n",
    "            ],\n",
    "        },\n",
    "    }\n",
    "]"
   ],
   "metadata": {
    "collapsed": false,
    "ExecuteTime": {
     "start_time": "2024-03-15T03:36:17.689206Z"
    }
   },
   "id": "d9f68a8e76dcd56f"
  },
  {
   "cell_type": "code",
   "execution_count": null,
   "outputs": [],
   "source": [
    "question = \"\"\"\n",
    "I have a string as follows:\n",
    "\n",
    "black yellow red blue green\n",
    "\n",
    "Please do the following 2 operations on it:\n",
    "1. Remove the third word in the string\n",
    "2. Send the updated string to Alex via email alex@xyz.com\n",
    "\"\"\""
   ],
   "metadata": {
    "collapsed": false,
    "ExecuteTime": {
     "start_time": "2024-03-15T03:36:17.698551Z"
    }
   },
   "id": "a22315440ab812da"
  },
  {
   "cell_type": "code",
   "execution_count": null,
   "outputs": [],
   "source": [
    "import inspect\n",
    "\n",
    "def get_function_parameter_names(function):\n",
    "    \"\"\"\n",
    "    获取指定函数的参数名列表。\n",
    "    \n",
    "    参数:\n",
    "    function - 需要获取参数名的函数对象。\n",
    "    \n",
    "    返回值:\n",
    "    如果函数参数有效，则返回一个包含所有参数名的列表；否则返回None。\n",
    "    \"\"\"\n",
    "    if function is not None and inspect.isfunction(function):\n",
    "        # 如果传入的对象是函数，获取其参数名\n",
    "        parameter_names = inspect.signature(function).parameters.keys()\n",
    "        return list(parameter_names)\n",
    "    else:\n",
    "        # 如果传入的对象不是函数，返回None\n",
    "        return None\n"
   ],
   "metadata": {
    "collapsed": false,
    "ExecuteTime": {
     "start_time": "2024-03-15T03:36:17.706767Z"
    }
   },
   "id": "9ecb63fb0778b269"
  },
  {
   "cell_type": "code",
   "execution_count": null,
   "outputs": [],
   "source": [
    "def remove_word_from_string(string, index):\n",
    "    words = string.split()\n",
    "\n",
    "    if 0 <= index < len(words):\n",
    "        del words[index]\n",
    "\n",
    "        return ' '.join(words)\n",
    "    else:\n",
    "        return string\n",
    "\n",
    "def send_message_by_email(recipient, message):\n",
    "    print(f'Sending {message} to {recipient}')\n",
    "    return f'Just sent email to {recipient}'"
   ],
   "metadata": {
    "collapsed": false,
    "ExecuteTime": {
     "start_time": "2024-03-15T03:36:17.715338Z"
    }
   },
   "id": "b193bfb5330fa2c8"
  },
  {
   "cell_type": "code",
   "execution_count": null,
   "outputs": [],
   "source": [
    "first_response = llm.invoke([HumanMessage(content=question)], functions=function_descriptions)\n",
    "first_response"
   ],
   "metadata": {
    "collapsed": false,
    "ExecuteTime": {
     "start_time": "2024-03-15T03:36:17.722777Z"
    }
   },
   "id": "7d8f1593a9d1124a"
  },
  {
   "cell_type": "code",
   "execution_count": null,
   "outputs": [],
   "source": [
    "# Get function name, and its arguments\n",
    "import json\n",
    "\n",
    "function_name = first_response.additional_kwargs[\"function_call\"][\"name\"]\n",
    "arguments = json.loads(first_response.additional_kwargs[\"function_call\"][\"arguments\"])\n",
    "\n",
    "# Locate the function and make the call\n",
    "the_function = globals().get(function_name)\n",
    "parameter_names = get_function_parameter_names(the_function)\n",
    "parameter_values = []\n",
    "for parameter_name in parameter_names:\n",
    "    parameter_values.append(arguments[parameter_name])\n",
    "\n",
    "returned_value = the_function(*parameter_values)\n",
    "returned_value"
   ],
   "metadata": {
    "collapsed": false,
    "ExecuteTime": {
     "start_time": "2024-03-15T03:36:17.726663Z"
    }
   },
   "id": "1b2510d1e37df5c8"
  },
  {
   "cell_type": "code",
   "execution_count": null,
   "outputs": [],
   "source": [
    "second_response = llm.invoke(\n",
    "    [\n",
    "        HumanMessage(content=question),\n",
    "        AIMessage(content=str(first_response.additional_kwargs)),\n",
    "        ChatMessage(\n",
    "            role='function',\n",
    "            additional_kwargs = {'name': function_name},\n",
    "            content = returned_value\n",
    "        )\n",
    "    ],\n",
    "    functions=function_descriptions\n",
    ")\n",
    "second_response"
   ],
   "metadata": {
    "collapsed": false,
    "ExecuteTime": {
     "start_time": "2024-03-15T03:36:17.738049Z"
    }
   },
   "id": "38e57a0b05001e1c"
  },
  {
   "cell_type": "code",
   "execution_count": null,
   "outputs": [],
   "source": [
    "# Again get function name, and its arguments\n",
    "\n",
    "function_name = second_response.additional_kwargs[\"function_call\"][\"name\"]\n",
    "arguments = json.loads(second_response.additional_kwargs[\"function_call\"][\"arguments\"])\n",
    "\n",
    "# Locate the function and make the call\n",
    "the_function = globals().get(function_name)\n",
    "parameter_names = get_function_parameter_names(the_function)\n",
    "parameter_values = []\n",
    "for parameter_name in parameter_names:\n",
    "  parameter_values.append(arguments[parameter_name])\n",
    "\n",
    "returned_value = the_function(*parameter_values)\n",
    "returned_value"
   ],
   "metadata": {
    "collapsed": false,
    "ExecuteTime": {
     "start_time": "2024-03-15T03:36:17.740595Z"
    }
   },
   "id": "589d0eefbde7a441"
  },
  {
   "cell_type": "code",
   "execution_count": null,
   "outputs": [],
   "source": [
    "third_response = llm.predict_messages(\n",
    "    [\n",
    "        HumanMessage(content=question),\n",
    "        AIMessage(content=str(first_response.additional_kwargs)),\n",
    "        AIMessage(content=str(second_response.additional_kwargs)),\n",
    "        ChatMessage(\n",
    "            role='function',\n",
    "            additional_kwargs = {'name': function_name},\n",
    "            content = returned_value\n",
    "        )\n",
    "    ], functions=function_descriptions\n",
    ")\n",
    "third_response"
   ],
   "metadata": {
    "collapsed": false,
    "ExecuteTime": {
     "start_time": "2024-03-15T03:36:17.744151Z"
    }
   },
   "id": "7703354b4fa031f9"
  },
  {
   "cell_type": "code",
   "execution_count": null,
   "outputs": [],
   "source": [],
   "metadata": {
    "collapsed": false,
    "ExecuteTime": {
     "start_time": "2024-03-15T03:36:17.749485Z"
    }
   },
   "id": "c972dd7a7eaefa8c"
  }
 ],
 "metadata": {
  "kernelspec": {
   "display_name": "Python 3",
   "language": "python",
   "name": "python3"
  },
  "language_info": {
   "codemirror_mode": {
    "name": "ipython",
    "version": 2
   },
   "file_extension": ".py",
   "mimetype": "text/x-python",
   "name": "python",
   "nbconvert_exporter": "python",
   "pygments_lexer": "ipython2",
   "version": "2.7.6"
  }
 },
 "nbformat": 4,
 "nbformat_minor": 5
}
