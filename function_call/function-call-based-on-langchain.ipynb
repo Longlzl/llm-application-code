{
 "cells": [
  {
   "cell_type": "markdown",
   "source": [
    "### 基于LangChain框架使用函数调用"
   ],
   "metadata": {
    "collapsed": false
   },
   "id": "de15b15c693d87db"
  },
  {
   "cell_type": "code",
   "execution_count": 1,
   "outputs": [],
   "source": [
    "!pip install langchain-openai --upgrade --quiet"
   ],
   "metadata": {
    "collapsed": false,
    "ExecuteTime": {
     "end_time": "2024-03-15T03:10:02.671810Z",
     "start_time": "2024-03-15T03:09:58.304334Z"
    }
   },
   "id": "5c5c058f6e2dc05a"
  },
  {
   "cell_type": "code",
   "execution_count": 2,
   "outputs": [],
   "source": [
    "from langchain.chat_models import ChatOpenAI\n",
    "from langchain_openai import ChatOpenAI\n",
    "from langchain.schema import HumanMessage, AIMessage, ChatMessage\n",
    "from langchain.tools import format_tool_to_openai_function, YouTubeSearchTool\n",
    "from langchain_core.utils.function_calling import convert_to_openai_function"
   ],
   "metadata": {
    "collapsed": false,
    "ExecuteTime": {
     "end_time": "2024-03-15T03:10:11.687710Z",
     "start_time": "2024-03-15T03:10:08.596180Z"
    }
   },
   "id": "ade5715506481fcd"
  },
  {
   "cell_type": "code",
   "execution_count": 3,
   "outputs": [],
   "source": [
    "model = 'gpt-3.5-turbo-0613'\n",
    "llm = ChatOpenAI(model=model)"
   ],
   "metadata": {
    "collapsed": false,
    "ExecuteTime": {
     "end_time": "2024-03-15T03:10:16.087409Z",
     "start_time": "2024-03-15T03:10:14.684488Z"
    }
   },
   "id": "b9662d1c4ce970e3"
  },
  {
   "cell_type": "markdown",
   "source": [
    "#### LangChain工具(Tool)的OpenAI函数调用能力"
   ],
   "metadata": {
    "collapsed": false
   },
   "id": "b6deac93ecea4ede"
  },
  {
   "cell_type": "markdown",
   "source": [
    "### 直接调用LangChain提供的工具"
   ],
   "metadata": {
    "collapsed": false
   },
   "id": "74d7dd1f6f486e4b"
  },
  {
   "cell_type": "code",
   "execution_count": 7,
   "outputs": [
    {
     "data": {
      "text/plain": "[{'name': 'youtube_search',\n  'description': 'search for youtube videos associated with a person. the input to this tool should be a comma separated list, the first part contains a person name and the second a number that is the maximum number of video results to return aka num_results. the second part is optional',\n  'parameters': {'properties': {'__arg1': {'title': '__arg1',\n     'type': 'string'}},\n   'required': ['__arg1'],\n   'type': 'object'}}]"
     },
     "execution_count": 7,
     "metadata": {},
     "output_type": "execute_result"
    }
   ],
   "source": [
    "tools = [YouTubeSearchTool()]\n",
    "functions = [convert_to_openai_function(t) for t in tools]\n",
    "functions"
   ],
   "metadata": {
    "collapsed": false,
    "ExecuteTime": {
     "end_time": "2024-03-15T03:11:56.949791Z",
     "start_time": "2024-03-15T03:11:56.930250Z"
    }
   },
   "id": "bd6c1841299cc235"
  },
  {
   "cell_type": "code",
   "execution_count": 8,
   "outputs": [
    {
     "data": {
      "text/plain": "AIMessage(content='', additional_kwargs={'function_call': {'arguments': '{\\n  \"arg1\": \"OpenAI\"\\n}', 'name': 'youtube_search'}}, response_metadata={'finish_reason': 'function_call', 'logprobs': None})"
     },
     "execution_count": 8,
     "metadata": {},
     "output_type": "execute_result"
    }
   ],
   "source": [
    "message = llm.invoke([HumanMessage(content='search videos in the topic of OpenAI on Youtube')], functions=functions)\n",
    "message"
   ],
   "metadata": {
    "collapsed": false,
    "ExecuteTime": {
     "end_time": "2024-03-15T03:11:59.236665Z",
     "start_time": "2024-03-15T03:11:58.138865Z"
    }
   },
   "id": "53bee6bd758eb4e2"
  },
  {
   "cell_type": "markdown",
   "source": [
    "### 调用自定义的工具"
   ],
   "metadata": {
    "collapsed": false
   },
   "id": "ea528762e37a01e1"
  },
  {
   "cell_type": "code",
   "execution_count": 9,
   "outputs": [],
   "source": [
    "function_descriptions = [\n",
    "    {\n",
    "        \"name\": \"remove_word_from_string\",\n",
    "        \"description\": \"Remove a word from a string by given its index\",\n",
    "        \"parameters\": {\n",
    "            \"type\": \"object\",\n",
    "            \"properties\": {\n",
    "                \"string\": {\n",
    "                    \"type\": \"string\",\n",
    "                    \"description\": \"The original string to be processed\",\n",
    "                },\n",
    "                \"index\": {\n",
    "                    \"type\": \"integer\",\n",
    "                    \"description\": \"The index of the word to be removed\"\n",
    "                },\n",
    "            },\n",
    "            \"required\": [\n",
    "                \"string\",\n",
    "                \"index\"\n",
    "            ],\n",
    "        },\n",
    "    },\n",
    "    {\n",
    "        \"name\": \"send_message_by_email\",\n",
    "        \"description\": \"Send an email with the text message to a recipient\",\n",
    "        \"parameters\": {\n",
    "            \"type\": \"object\",\n",
    "            \"properties\": {\n",
    "                \"recipient\": {\n",
    "                    \"type\": \"string\",\n",
    "                    \"description\": \"The email address of the recipient\",\n",
    "                },\n",
    "                \"message\": {\n",
    "                    \"type\": \"string\",\n",
    "                    \"description\": \"The message of the email content\",\n",
    "                }\n",
    "            },\n",
    "            \"required\": [\n",
    "                \"recipient\",\n",
    "                \"message\"\n",
    "            ],\n",
    "        },\n",
    "    }\n",
    "]"
   ],
   "metadata": {
    "collapsed": false,
    "ExecuteTime": {
     "end_time": "2024-03-15T03:12:25.672648Z",
     "start_time": "2024-03-15T03:12:25.648872Z"
    }
   },
   "id": "d9f68a8e76dcd56f"
  },
  {
   "cell_type": "code",
   "execution_count": 10,
   "outputs": [],
   "source": [
    "question = \"\"\"\n",
    "I have a string as follows:\n",
    "\n",
    "black yellow red blue green\n",
    "\n",
    "Please do the following 2 operations on it:\n",
    "1. Remove the third word in the string\n",
    "2. Send the updated string to Alex via email alex@xyz.com\n",
    "\"\"\""
   ],
   "metadata": {
    "collapsed": false,
    "ExecuteTime": {
     "end_time": "2024-03-15T03:12:33.051664Z",
     "start_time": "2024-03-15T03:12:33.026071Z"
    }
   },
   "id": "a22315440ab812da"
  },
  {
   "cell_type": "code",
   "execution_count": 11,
   "outputs": [],
   "source": [
    "import inspect\n",
    "\n",
    "def get_function_parameter_names(function):\n",
    "  if function is not None and inspect.isfunction(function):\n",
    "      parameter_names = inspect.signature(function).parameters.keys()\n",
    "      return list(parameter_names)\n",
    "  else:\n",
    "      return None"
   ],
   "metadata": {
    "collapsed": false,
    "ExecuteTime": {
     "end_time": "2024-03-15T03:12:36.504982Z",
     "start_time": "2024-03-15T03:12:36.475921Z"
    }
   },
   "id": "9ecb63fb0778b269"
  },
  {
   "cell_type": "code",
   "execution_count": 12,
   "outputs": [],
   "source": [
    "def remove_word_from_string(string, index):\n",
    "    words = string.split()\n",
    "\n",
    "    if 0 <= index < len(words):\n",
    "        del words[index]\n",
    "\n",
    "        return ' '.join(words)\n",
    "    else:\n",
    "        return string\n",
    "\n",
    "def send_message_by_email(recipient, message):\n",
    "    print(f'Sending {message} to {recipient}')\n",
    "    return f'Just sent email to {recipient}'"
   ],
   "metadata": {
    "collapsed": false,
    "ExecuteTime": {
     "end_time": "2024-03-15T03:12:38.406076Z",
     "start_time": "2024-03-15T03:12:38.387441Z"
    }
   },
   "id": "b193bfb5330fa2c8"
  },
  {
   "cell_type": "code",
   "execution_count": 14,
   "outputs": [
    {
     "data": {
      "text/plain": "AIMessage(content='', additional_kwargs={'function_call': {'arguments': '{\\n\"string\": \"black yellow red blue green\",\\n\"index\": 2\\n}', 'name': 'remove_word_from_string'}}, response_metadata={'finish_reason': 'function_call', 'logprobs': None})"
     },
     "execution_count": 14,
     "metadata": {},
     "output_type": "execute_result"
    }
   ],
   "source": [
    "first_response = llm.invoke([HumanMessage(content=question)], functions=function_descriptions)\n",
    "first_response"
   ],
   "metadata": {
    "collapsed": false,
    "ExecuteTime": {
     "end_time": "2024-03-15T03:12:44.718166Z",
     "start_time": "2024-03-15T03:12:43.320780Z"
    }
   },
   "id": "7d8f1593a9d1124a"
  },
  {
   "cell_type": "code",
   "execution_count": 18,
   "outputs": [],
   "source": [
    "# Get function name, and its arguments\n",
    "import json\n",
    "\n",
    "function_name = first_response.additional_kwargs[\"function_call\"][\"name\"]\n",
    "arguments = json.loads(first_response.additional_kwargs[\"function_call\"][\"arguments\"])\n",
    "\n",
    "# Locate the function and make the call\n",
    "the_function = globals().get(function_name)\n",
    "parameter_names = get_function_parameter_names(the_function)\n",
    "parameter_values = []\n",
    "for parameter_name in parameter_names:\n",
    "    parameter_values.append(arguments[parameter_name])"
   ],
   "metadata": {
    "collapsed": false,
    "ExecuteTime": {
     "end_time": "2024-03-15T03:21:19.318537Z",
     "start_time": "2024-03-15T03:21:19.293699Z"
    }
   },
   "id": "1b2510d1e37df5c8"
  },
  {
   "cell_type": "code",
   "execution_count": 20,
   "outputs": [
    {
     "data": {
      "text/plain": "'black yellow blue green'"
     },
     "execution_count": 20,
     "metadata": {},
     "output_type": "execute_result"
    }
   ],
   "source": [
    "returned_value = the_function(*parameter_values)\n",
    "returned_value"
   ],
   "metadata": {
    "collapsed": false,
    "ExecuteTime": {
     "end_time": "2024-03-15T03:22:54.394236Z",
     "start_time": "2024-03-15T03:22:54.337696Z"
    }
   },
   "id": "2ad5903fbfb0126"
  },
  {
   "cell_type": "code",
   "execution_count": 23,
   "outputs": [
    {
     "data": {
      "text/plain": "AIMessage(content='The updated string after removing the third word is: \"black yellow blue green\".\\n\\nNow, I will send the updated string to Alex via email.', additional_kwargs={'function_call': {'arguments': '{\\n  \"recipient\": \"alex@xyz.com\",\\n  \"message\": \"black yellow blue green\"\\n}', 'name': 'send_message_by_email'}}, response_metadata={'finish_reason': 'function_call', 'logprobs': None})"
     },
     "execution_count": 23,
     "metadata": {},
     "output_type": "execute_result"
    }
   ],
   "source": [
    "second_response = llm.invoke(\n",
    "    [\n",
    "        HumanMessage(content=question),\n",
    "        AIMessage(content=str(first_response.additional_kwargs)),\n",
    "        ChatMessage(\n",
    "            role='function',\n",
    "            additional_kwargs = {'name': function_name},\n",
    "            content = returned_value\n",
    "        )\n",
    "    ],\n",
    "    functions=function_descriptions\n",
    ")\n",
    "second_response"
   ],
   "metadata": {
    "collapsed": false,
    "ExecuteTime": {
     "end_time": "2024-03-15T03:26:57.457024Z",
     "start_time": "2024-03-15T03:26:55.841134Z"
    }
   },
   "id": "38e57a0b05001e1c"
  },
  {
   "cell_type": "code",
   "execution_count": 25,
   "outputs": [
    {
     "name": "stdout",
     "output_type": "stream",
     "text": [
      "Sending black yellow blue green to alex@xyz.com\n"
     ]
    },
    {
     "data": {
      "text/plain": "'Just sent email to alex@xyz.com'"
     },
     "execution_count": 25,
     "metadata": {},
     "output_type": "execute_result"
    }
   ],
   "source": [
    "# Again get function name, and its arguments\n",
    "\n",
    "function_name = second_response.additional_kwargs[\"function_call\"][\"name\"]\n",
    "arguments = json.loads(second_response.additional_kwargs[\"function_call\"][\"arguments\"])\n",
    "\n",
    "# Locate the function and make the call\n",
    "the_function = globals().get(function_name)\n",
    "parameter_names = get_function_parameter_names(the_function)\n",
    "parameter_values = []\n",
    "for parameter_name in parameter_names:\n",
    "  parameter_values.append(arguments[parameter_name])\n",
    "\n",
    "returned_value = the_function(*parameter_values)\n",
    "returned_value"
   ],
   "metadata": {
    "collapsed": false,
    "ExecuteTime": {
     "end_time": "2024-03-15T03:29:33.640524Z",
     "start_time": "2024-03-15T03:29:33.597948Z"
    }
   },
   "id": "589d0eefbde7a441"
  },
  {
   "cell_type": "code",
   "execution_count": 26,
   "outputs": [
    {
     "data": {
      "text/plain": "AIMessage(content='I have removed the third word from the string and sent the updated string to Alex via email.', response_metadata={'finish_reason': 'stop', 'logprobs': None})"
     },
     "execution_count": 26,
     "metadata": {},
     "output_type": "execute_result"
    }
   ],
   "source": [
    "third_response = llm.predict_messages(\n",
    "    [\n",
    "        HumanMessage(content=question),\n",
    "        AIMessage(content=str(first_response.additional_kwargs)),\n",
    "        AIMessage(content=str(second_response.additional_kwargs)),\n",
    "        ChatMessage(\n",
    "            role='function',\n",
    "            additional_kwargs = {'name': function_name},\n",
    "            content = returned_value\n",
    "        )\n",
    "    ], functions=function_descriptions\n",
    ")\n",
    "third_response"
   ],
   "metadata": {
    "collapsed": false,
    "ExecuteTime": {
     "end_time": "2024-03-15T03:30:18.094695Z",
     "start_time": "2024-03-15T03:30:16.801250Z"
    }
   },
   "id": "7703354b4fa031f9"
  },
  {
   "cell_type": "code",
   "execution_count": null,
   "outputs": [],
   "source": [],
   "metadata": {
    "collapsed": false
   },
   "id": "c972dd7a7eaefa8c"
  }
 ],
 "metadata": {
  "kernelspec": {
   "display_name": "Python 3",
   "language": "python",
   "name": "python3"
  },
  "language_info": {
   "codemirror_mode": {
    "name": "ipython",
    "version": 2
   },
   "file_extension": ".py",
   "mimetype": "text/x-python",
   "name": "python",
   "nbconvert_exporter": "python",
   "pygments_lexer": "ipython2",
   "version": "2.7.6"
  }
 },
 "nbformat": 4,
 "nbformat_minor": 5
}
