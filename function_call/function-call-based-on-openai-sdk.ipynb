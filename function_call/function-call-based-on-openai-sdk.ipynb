{
 "cells": [
  {
   "cell_type": "code",
   "execution_count": 10,
   "id": "initial_id",
   "metadata": {
    "collapsed": true,
    "ExecuteTime": {
     "end_time": "2024-03-15T02:30:13.433413Z",
     "start_time": "2024-03-15T02:30:07.715099Z"
    }
   },
   "outputs": [],
   "source": [
    "!pip install langchain openai --upgrade --quiet"
   ]
  },
  {
   "cell_type": "markdown",
   "source": [
    "<a href=\"https://colab.research.google.com/github/qxr777/llm-application-code/blob/master/function_call/function-call-based-on-openai-sdk.ipynb#scrollTo=9347fc9213a0b887\" target=\"_parent\">Open In Colab</a>"
   ],
   "metadata": {
    "collapsed": false
   },
   "id": "36e546b2b48d9275"
  },
  {
   "cell_type": "markdown",
   "source": [
    "### 基于OpenAI的Python SDK使用函数调用"
   ],
   "metadata": {
    "collapsed": false
   },
   "id": "6e5a5ca448caf612"
  },
  {
   "cell_type": "code",
   "execution_count": 19,
   "outputs": [
    {
     "data": {
      "text/plain": "True"
     },
     "execution_count": 19,
     "metadata": {},
     "output_type": "execute_result"
    }
   ],
   "source": [
    "from dotenv import load_dotenv\n",
    "load_dotenv()\n",
    "\n",
    "# import os\n",
    "# os.environ['OPENAI_API_KEY'] = 'sk-123456789'\n",
    "\n",
    "# import os\n",
    "# from google.colab import userdata\n",
    "# os.environ[\"OPENAI_API_KEY\"] = userdata.get('OPENAI_API_KEY')"
   ],
   "metadata": {
    "collapsed": false,
    "ExecuteTime": {
     "end_time": "2024-03-15T02:55:18.876723Z",
     "start_time": "2024-03-15T02:55:18.872929Z"
    }
   },
   "id": "9347fc9213a0b887"
  },
  {
   "cell_type": "code",
   "execution_count": 12,
   "outputs": [],
   "source": [
    "model = 'gpt-3.5-turbo-0613'"
   ],
   "metadata": {
    "collapsed": false,
    "ExecuteTime": {
     "end_time": "2024-03-15T02:30:13.545881Z",
     "start_time": "2024-03-15T02:30:13.463578Z"
    }
   },
   "id": "173510d63f7d6799"
  },
  {
   "cell_type": "code",
   "execution_count": 13,
   "outputs": [],
   "source": [
    "function_descriptions = [\n",
    "  {\n",
    "      \"name\": \"get_student_score\",\n",
    "      \"description\": \"Get the student score by given his or her name\",\n",
    "      \"parameters\": {\n",
    "          \"type\": \"object\",\n",
    "          \"properties\": {\n",
    "              \"name\": {\n",
    "                  \"type\": \"string\",\n",
    "                  \"description\": \"The student's name\",\n",
    "              }\n",
    "          },\n",
    "          \"required\": [\"name\"],\n",
    "      },\n",
    "    }\n",
    "]\n",
    "\n",
    "import json\n",
    "\n",
    "SCORES = { 'Alex': 90, 'Lucy': 60 }\n",
    "def get_student_score(name):\n",
    "\n",
    "    \"\"\"Get the student score by given his or her name\"\"\"\n",
    "\n",
    "    score = {\n",
    "        \"name\": name,\n",
    "        \"score\": SCORES[name]\n",
    "    }\n",
    "    return json.dumps(score)"
   ],
   "metadata": {
    "collapsed": false,
    "ExecuteTime": {
     "end_time": "2024-03-15T02:30:13.547041Z",
     "start_time": "2024-03-15T02:30:13.486084Z"
    }
   },
   "id": "636da9546a2e9b3"
  },
  {
   "cell_type": "code",
   "execution_count": 14,
   "outputs": [],
   "source": [
    "user_query = \"What's the performance of Lucy in the school this year?\""
   ],
   "metadata": {
    "collapsed": false,
    "ExecuteTime": {
     "end_time": "2024-03-15T02:30:13.548280Z",
     "start_time": "2024-03-15T02:30:13.500655Z"
    }
   },
   "id": "89257fccfb0725b3"
  },
  {
   "cell_type": "code",
   "execution_count": 15,
   "outputs": [
    {
     "name": "stdout",
     "output_type": "stream",
     "text": [
      "ChatCompletionMessage(content=None, role='assistant', function_call=FunctionCall(arguments='{\\n  \"name\": \"Lucy\"\\n}', name='get_student_score'), tool_calls=None)\n"
     ]
    }
   ],
   "source": [
    "from openai import OpenAI\n",
    "\n",
    "client = OpenAI()\n",
    "response = client.chat.completions.create(model=model,\n",
    "                                          messages=[{\"role\": \"user\", \"content\": user_query}],\n",
    "                                          functions=function_descriptions,\n",
    "                                          function_call=\"auto\")\n",
    "ai_response_message = response.choices[0].message\n",
    "print(ai_response_message)"
   ],
   "metadata": {
    "collapsed": false,
    "ExecuteTime": {
     "end_time": "2024-03-15T02:30:14.812773Z",
     "start_time": "2024-03-15T02:30:13.518338Z"
    }
   },
   "id": "e9d3c1caac8594c1"
  },
  {
   "cell_type": "code",
   "execution_count": 16,
   "outputs": [],
   "source": [
    "import inspect\n",
    "\n",
    "def get_function_parameter_names(function):\n",
    "    \"\"\"\n",
    "    获取指定函数的参数名列表。\n",
    "    \n",
    "    参数:\n",
    "    function - 需要获取参数名的函数对象。\n",
    "    \n",
    "    返回值:\n",
    "    如果函数参数有效，则返回一个包含所有参数名的列表；否则返回None。\n",
    "    \"\"\"\n",
    "    if function is not None and inspect.isfunction(function):\n",
    "        # 如果传入的对象是函数，获取其参数名\n",
    "        parameter_names = inspect.signature(function).parameters.keys()\n",
    "        return list(parameter_names)\n",
    "    else:\n",
    "        # 如果传入的对象不是函数，返回None\n",
    "        return None"
   ],
   "metadata": {
    "collapsed": false,
    "ExecuteTime": {
     "end_time": "2024-03-15T02:30:14.883392Z",
     "start_time": "2024-03-15T02:30:14.807943Z"
    }
   },
   "id": "1d5b0300d9857192"
  },
  {
   "cell_type": "code",
   "execution_count": 17,
   "outputs": [
    {
     "data": {
      "text/plain": "'{\"name\": \"Lucy\", \"score\": 60}'"
     },
     "execution_count": 17,
     "metadata": {},
     "output_type": "execute_result"
    }
   ],
   "source": [
    "# 获取函数名称及其参数\n",
    "# 从ai_response_message中提取函数调用的信息，包括函数名和参数\n",
    "function_name = ai_response_message.function_call.name\n",
    "arguments = json.loads(ai_response_message.function_call.arguments)\n",
    "\n",
    "# 定位函数并调用\n",
    "# 通过函数名在全局变量中查找函数，然后获取函数的参数名，并根据参数名提取参数值，最后调用函数\n",
    "the_function = globals().get(function_name)  # 尝试从全局变量中获取函数对象\n",
    "parameter_names = get_function_parameter_names(the_function)  # 获取函数的参数名列表\n",
    "parameter_values = []\n",
    "for parameter_name in parameter_names:\n",
    "  parameter_values.append(arguments[parameter_name])  # 根据参数名提取参数值\n",
    "\n",
    "returned_value = the_function(*parameter_values)  # 调用函数，并传入参数值列表\n",
    "returned_value  # 返回函数执行结果\n"
   ],
   "metadata": {
    "collapsed": false,
    "ExecuteTime": {
     "end_time": "2024-03-15T02:30:14.885484Z",
     "start_time": "2024-03-15T02:30:14.830883Z"
    }
   },
   "id": "1339da823b59a7e3"
  },
  {
   "cell_type": "code",
   "execution_count": 18,
   "outputs": [
    {
     "name": "stdout",
     "output_type": "stream",
     "text": [
      "Lucy has achieved a score of 60 this year.\n"
     ]
    }
   ],
   "source": [
    "second_response = client.chat.completions.create(model=model,\n",
    "                                                 messages=[\n",
    "                                                     {\"role\": \"user\", \"content\": user_query},\n",
    "                                                     ai_response_message,\n",
    "                                                     {\n",
    "                                                         \"role\": \"function\",\n",
    "                                                         \"name\": \"get_student_score\",\n",
    "                                                         \"content\": returned_value,\n",
    "                                                     },\n",
    "                                                 ])\n",
    "print (second_response.choices[0].message.content)"
   ],
   "metadata": {
    "collapsed": false,
    "ExecuteTime": {
     "end_time": "2024-03-15T02:30:15.956551Z",
     "start_time": "2024-03-15T02:30:14.869604Z"
    }
   },
   "id": "a2ae833965b82ed8"
  }
 ],
 "metadata": {
  "kernelspec": {
   "display_name": "Python 3",
   "language": "python",
   "name": "python3"
  },
  "language_info": {
   "codemirror_mode": {
    "name": "ipython",
    "version": 2
   },
   "file_extension": ".py",
   "mimetype": "text/x-python",
   "name": "python",
   "nbconvert_exporter": "python",
   "pygments_lexer": "ipython2",
   "version": "2.7.6"
  }
 },
 "nbformat": 4,
 "nbformat_minor": 5
}
