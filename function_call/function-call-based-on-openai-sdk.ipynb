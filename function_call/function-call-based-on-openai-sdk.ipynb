{
 "cells": [
  {
   "cell_type": "code",
   "execution_count": 2,
   "id": "initial_id",
   "metadata": {
    "collapsed": true,
    "ExecuteTime": {
     "end_time": "2024-03-15T01:12:29.134759Z",
     "start_time": "2024-03-15T01:11:19.534122Z"
    }
   },
   "outputs": [],
   "source": [
    "!pip install langchain openai --upgrade --quiet"
   ]
  },
  {
   "cell_type": "markdown",
   "source": [
    "### 基于OpenAI的Python SDK使用函数调用"
   ],
   "metadata": {
    "collapsed": false
   },
   "id": "6e5a5ca448caf612"
  },
  {
   "cell_type": "code",
   "execution_count": 3,
   "outputs": [
    {
     "data": {
      "text/plain": "True"
     },
     "execution_count": 3,
     "metadata": {},
     "output_type": "execute_result"
    }
   ],
   "source": [
    "from dotenv import load_dotenv\n",
    "load_dotenv()"
   ],
   "metadata": {
    "collapsed": false,
    "ExecuteTime": {
     "end_time": "2024-03-15T01:17:39.647326Z",
     "start_time": "2024-03-15T01:17:39.525597Z"
    }
   },
   "id": "9347fc9213a0b887"
  },
  {
   "cell_type": "code",
   "execution_count": 4,
   "outputs": [],
   "source": [
    "model = 'gpt-3.5-turbo-0613'"
   ],
   "metadata": {
    "collapsed": false,
    "ExecuteTime": {
     "end_time": "2024-03-15T01:17:42.215134Z",
     "start_time": "2024-03-15T01:17:42.158560Z"
    }
   },
   "id": "173510d63f7d6799"
  },
  {
   "cell_type": "code",
   "execution_count": 5,
   "outputs": [],
   "source": [
    "function_descriptions = [\n",
    "  {\n",
    "      \"name\": \"get_student_score\",\n",
    "      \"description\": \"Get the student score by given his or her name\",\n",
    "      \"parameters\": {\n",
    "          \"type\": \"object\",\n",
    "          \"properties\": {\n",
    "              \"name\": {\n",
    "                  \"type\": \"string\",\n",
    "                  \"description\": \"The student's name\",\n",
    "              }\n",
    "          },\n",
    "          \"required\": [\"name\"],\n",
    "      },\n",
    "    }\n",
    "]"
   ],
   "metadata": {
    "collapsed": false,
    "ExecuteTime": {
     "end_time": "2024-03-15T01:17:43.260075Z",
     "start_time": "2024-03-15T01:17:43.213137Z"
    }
   },
   "id": "636da9546a2e9b3"
  },
  {
   "cell_type": "code",
   "execution_count": 6,
   "outputs": [],
   "source": [
    "user_query = \"What's the performance of Lucy in the school this year?\""
   ],
   "metadata": {
    "collapsed": false,
    "ExecuteTime": {
     "end_time": "2024-03-15T01:17:44.309159Z",
     "start_time": "2024-03-15T01:17:44.276672Z"
    }
   },
   "id": "89257fccfb0725b3"
  },
  {
   "cell_type": "code",
   "execution_count": 7,
   "outputs": [
    {
     "name": "stdout",
     "output_type": "stream",
     "text": [
      "ChatCompletionMessage(content=None, role='assistant', function_call=FunctionCall(arguments='{\\n  \"name\": \"Lucy\"\\n}', name='get_student_score'), tool_calls=None)\n"
     ]
    },
    {
     "data": {
      "text/plain": "'Lucy'"
     },
     "execution_count": 7,
     "metadata": {},
     "output_type": "execute_result"
    }
   ],
   "source": [
    "from openai import OpenAI\n",
    "\n",
    "client = OpenAI()\n",
    "response = client.chat.completions.create(model=model,\n",
    "                                          messages=[{\"role\": \"user\", \"content\": user_query}],\n",
    "                                          functions=function_descriptions,\n",
    "                                          function_call=\"auto\")\n",
    "ai_response_message = response.choices[0].message\n",
    "print(ai_response_message)\n",
    "name = eval(ai_response_message.function_call.arguments).get(\"name\")\n",
    "name"
   ],
   "metadata": {
    "collapsed": false,
    "ExecuteTime": {
     "end_time": "2024-03-15T01:17:51.915733Z",
     "start_time": "2024-03-15T01:17:48.126049Z"
    }
   },
   "id": "e9d3c1caac8594c1"
  },
  {
   "cell_type": "code",
   "execution_count": 8,
   "outputs": [
    {
     "data": {
      "text/plain": "'{\"name\": \"Lucy\", \"score\": 60}'"
     },
     "execution_count": 8,
     "metadata": {},
     "output_type": "execute_result"
    }
   ],
   "source": [
    "import json\n",
    "\n",
    "SCORES = { 'Alex': 90, 'Lucy': 60 }\n",
    "def get_student_score(name):\n",
    "\n",
    "    \"\"\"Get the student score by given his or her name\"\"\"\n",
    "\n",
    "    score = {\n",
    "        \"name\": name,\n",
    "        \"score\": SCORES[name]\n",
    "    }\n",
    "    return json.dumps(score)\n",
    "\n",
    "function_response = get_student_score(name=name)\n",
    "function_response"
   ],
   "metadata": {
    "collapsed": false,
    "ExecuteTime": {
     "end_time": "2024-03-15T01:17:53.380899Z",
     "start_time": "2024-03-15T01:17:53.345004Z"
    }
   },
   "id": "d5d1c3e81e680ca5"
  },
  {
   "cell_type": "code",
   "execution_count": 9,
   "outputs": [
    {
     "name": "stdout",
     "output_type": "stream",
     "text": [
      "The performance of Lucy in school this year is a score of 60.\n"
     ]
    }
   ],
   "source": [
    "second_response = client.chat.completions.create(model=model,\n",
    "                                                 messages=[\n",
    "                                                     {\"role\": \"user\", \"content\": user_query},\n",
    "                                                     ai_response_message,\n",
    "                                                     {\n",
    "                                                         \"role\": \"function\",\n",
    "                                                         \"name\": \"get_student_score\",\n",
    "                                                         \"content\": function_response,\n",
    "                                                     },\n",
    "                                                 ])\n",
    "print (second_response.choices[0].message.content)"
   ],
   "metadata": {
    "collapsed": false,
    "ExecuteTime": {
     "end_time": "2024-03-15T01:17:55.972244Z",
     "start_time": "2024-03-15T01:17:54.898065Z"
    }
   },
   "id": "a2ae833965b82ed8"
  },
  {
   "cell_type": "code",
   "execution_count": null,
   "outputs": [],
   "source": [],
   "metadata": {
    "collapsed": false
   },
   "id": "175ea673bc7701f1"
  }
 ],
 "metadata": {
  "kernelspec": {
   "display_name": "Python 3",
   "language": "python",
   "name": "python3"
  },
  "language_info": {
   "codemirror_mode": {
    "name": "ipython",
    "version": 2
   },
   "file_extension": ".py",
   "mimetype": "text/x-python",
   "name": "python",
   "nbconvert_exporter": "python",
   "pygments_lexer": "ipython2",
   "version": "2.7.6"
  }
 },
 "nbformat": 4,
 "nbformat_minor": 5
}
