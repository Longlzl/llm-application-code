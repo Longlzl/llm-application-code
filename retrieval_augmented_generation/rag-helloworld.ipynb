{
 "cells": [
  {
   "cell_type": "code",
   "execution_count": 2,
   "id": "initial_id",
   "metadata": {
    "collapsed": true,
    "ExecuteTime": {
     "end_time": "2024-03-23T01:10:07.986103Z",
     "start_time": "2024-03-23T01:09:46.479264Z"
    }
   },
   "outputs": [],
   "source": [
    "!pip install langchain langchain_openai faiss-gpu --upgrade --quiet"
   ]
  },
  {
   "cell_type": "markdown",
   "source": [
    "<a href = \"https://colab.research.google.com/github/qxr777/llm-application-code/blob/master/retrieval_augmented_generation/rag-helloworld.ipynb\"\n",
    "target = \"_parent\"> Open In Colab </a>"
   ],
   "metadata": {
    "collapsed": false
   },
   "id": "edb3e3c1a742c5bc"
  },
  {
   "cell_type": "code",
   "execution_count": null,
   "outputs": [],
   "source": [
    "# 三选一 加载OPENAI_API_KEY\n",
    "\n",
    "# 本地运行，包含.env文件\n",
    "# from dotenv import load_dotenv\n",
    "# load_dotenv()\n",
    "\n",
    "# 本地运行，不包含.env文件\n",
    "# import os\n",
    "# os.environ['OPENAI_API_KEY'] = 'sk-123456789'\n",
    "\n",
    "# google colab运行，需要配置secret key\n",
    "import os\n",
    "from google.colab import userdata\n",
    "\n",
    "os.environ[\"OPENAI_API_KEY\"] = userdata.get('OPENAI_API_KEY')"
   ],
   "metadata": {
    "collapsed": false
   },
   "id": "e45b371e1d64bad7"
  },
  {
   "cell_type": "code",
   "execution_count": 3,
   "outputs": [],
   "source": [
    "from langchain.text_splitter import RecursiveCharacterTextSplitter\n",
    "from langchain_community.vectorstores.faiss import FAISS\n",
    "from langchain_core.documents import Document\n",
    "from langchain_core.output_parsers import StrOutputParser\n",
    "from langchain_core.prompts import ChatPromptTemplate\n",
    "from langchain_core.runnables import RunnablePassthrough\n",
    "from langchain_openai import OpenAIEmbeddings, ChatOpenAI"
   ],
   "metadata": {
    "collapsed": false,
    "ExecuteTime": {
     "end_time": "2024-03-23T01:10:15.171715Z",
     "start_time": "2024-03-23T01:10:11.912298Z"
    }
   },
   "id": "43d06ed9ed1d302c"
  },
  {
   "cell_type": "code",
   "execution_count": 4,
   "outputs": [],
   "source": [
    "# 创建LLM\n",
    "model = 'gpt-3.5-turbo-0613'\n",
    "llm = ChatOpenAI(model=model)"
   ],
   "metadata": {
    "collapsed": false,
    "ExecuteTime": {
     "end_time": "2024-03-23T01:11:45.701101Z",
     "start_time": "2024-03-23T01:11:44.467413Z"
    }
   },
   "id": "7cb83e8589cbc822"
  },
  {
   "cell_type": "code",
   "execution_count": 5,
   "outputs": [],
   "source": [
    "# 创建Prompt\n",
    "prompt = ChatPromptTemplate.from_template('基于上下文：{context}\\n回答：{input}')"
   ],
   "metadata": {
    "collapsed": false,
    "ExecuteTime": {
     "end_time": "2024-03-23T01:11:48.993205Z",
     "start_time": "2024-03-23T01:11:48.951261Z"
    }
   },
   "id": "bf7ba0c9470bffc8"
  },
  {
   "cell_type": "code",
   "execution_count": 6,
   "outputs": [],
   "source": [
    "# 创建输出解析器\n",
    "output_parser = StrOutputParser()"
   ],
   "metadata": {
    "collapsed": false,
    "ExecuteTime": {
     "end_time": "2024-03-23T01:11:50.080267Z",
     "start_time": "2024-03-23T01:11:50.039719Z"
    }
   },
   "id": "d9ddf4cebf150477"
  },
  {
   "cell_type": "code",
   "execution_count": 11,
   "outputs": [],
   "source": [
    "# 模拟文档\n",
    "docs = [Document(page_content=\"课程代码 01041110\t课程名称 企业级应用软件设计与开发\t课程大类 专业学位硕士类课程\t班级 23硕士合班\t学生数 165\t周次 2-13\t时间 【星期二】6,7,8节\t上课地点 马区西-东教学楼-233(西东教-合四)\t\")]"
   ],
   "metadata": {
    "collapsed": false,
    "ExecuteTime": {
     "end_time": "2024-03-23T01:14:49.044550Z",
     "start_time": "2024-03-23T01:14:48.998204Z"
    }
   },
   "id": "8f7c51995095f057"
  },
  {
   "cell_type": "code",
   "execution_count": 12,
   "outputs": [],
   "source": [
    "# 文档嵌入\n",
    "splits = RecursiveCharacterTextSplitter().split_documents(docs)\n",
    "vector_store = FAISS.from_documents(splits, OpenAIEmbeddings())\n",
    "retriever = vector_store.as_retriever()"
   ],
   "metadata": {
    "collapsed": false,
    "ExecuteTime": {
     "end_time": "2024-03-23T01:14:54.167902Z",
     "start_time": "2024-03-23T01:14:52.217471Z"
    }
   },
   "id": "cdf3cf9ef8ccf0de"
  },
  {
   "cell_type": "code",
   "execution_count": 13,
   "outputs": [],
   "source": [
    "# 创建Chain\n",
    "chain_no_context = RunnablePassthrough() | llm | output_parser\n",
    "chain = (\n",
    "    {\"context\": retriever, \"input\": RunnablePassthrough()}\n",
    "    | prompt | llm | output_parser\n",
    ")"
   ],
   "metadata": {
    "collapsed": false,
    "ExecuteTime": {
     "end_time": "2024-03-23T01:14:55.138630Z",
     "start_time": "2024-03-23T01:14:55.107283Z"
    }
   },
   "id": "b52607612fb177e7"
  },
  {
   "cell_type": "code",
   "execution_count": 14,
   "outputs": [
    {
     "name": "stdout",
     "output_type": "stream",
     "text": [
      "上课地点一般在大学或专业培训机构的教室或实验室进行。具体的上课地点可以根据培训机构或大学的安排而定，可以通过咨询相关机构或学校获取具体信息。\n",
      "企业级应用软件设计与开发的上课地点在马区西-东教学楼-233(西东教-合四)。\n"
     ]
    }
   ],
   "source": [
    "# 调用Chain\n",
    "question = '企业级应用软件设计与开发的上课地点在哪里？'\n",
    "print(chain_no_context.invoke(question))\n",
    "print(chain.invoke(question))"
   ],
   "metadata": {
    "collapsed": false,
    "ExecuteTime": {
     "end_time": "2024-03-23T01:15:01.060715Z",
     "start_time": "2024-03-23T01:14:56.451704Z"
    }
   },
   "id": "cc9b1b5687019150"
  },
  {
   "cell_type": "code",
   "execution_count": null,
   "outputs": [],
   "source": [],
   "metadata": {
    "collapsed": false
   },
   "id": "3b6ea67f50d966f"
  }
 ],
 "metadata": {
  "kernelspec": {
   "display_name": "Python 3",
   "language": "python",
   "name": "python3"
  },
  "language_info": {
   "codemirror_mode": {
    "name": "ipython",
    "version": 2
   },
   "file_extension": ".py",
   "mimetype": "text/x-python",
   "name": "python",
   "nbconvert_exporter": "python",
   "pygments_lexer": "ipython2",
   "version": "2.7.6"
  }
 },
 "nbformat": 4,
 "nbformat_minor": 5
}
