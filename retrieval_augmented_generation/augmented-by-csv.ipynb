{
 "cells": [
  {
   "cell_type": "code",
   "execution_count": null,
   "id": "68ec9a8770811c76",
   "metadata": {
    "collapsed": true
   },
   "outputs": [],
   "source": [
    "!pip install langchain openai --upgrade --quiet"
   ]
  },
  {
   "cell_type": "markdown",
   "source": [
    "<a href = \"https://colab.research.google.com/github/qxr777/llm-application-code/blob/master/function_call/function-call-based-on-langchain.ipynb\"\n",
    "target = \"_parent\"> Open In Colab </a>"
   ],
   "metadata": {
    "collapsed": false
   },
   "id": "c7f20d6a3ccf99cb"
  },
  {
   "cell_type": "code",
   "execution_count": null,
   "outputs": [],
   "source": [
    "# 三选一 加载OPENAI_API_KEY\n",
    "\n",
    "# 本地运行，包含.env文件\n",
    "# from dotenv import load_dotenv\n",
    "# load_dotenv()\n",
    "\n",
    "# 本地运行，不包含.env文件\n",
    "# import os\n",
    "# os.environ['OPENAI_API_KEY'] = 'sk-123456789'\n",
    "\n",
    "# google colab运行，需要配置secret key\n",
    "import os\n",
    "from google.colab import userdata\n",
    "\n",
    "os.environ[\"OPENAI_API_KEY\"] = userdata.get('OPENAI_API_KEY')"
   ],
   "metadata": {
    "collapsed": false
   },
   "id": "initial_id"
  },
  {
   "cell_type": "code",
   "execution_count": 2,
   "outputs": [
    {
     "data": {
      "text/plain": "                                                name  \\\n0                           Women's Campside Oxfords   \n1           Recycled Waterhog Dog Mat, Chevron Weave   \n2  Infant and Toddler Girls' Coastal Chill Swimsu...   \n3         Refresh Swimwear, V-Neck Tankini Contrasts   \n4                             EcoFlex 3L Storm Pants   \n\n                                         description  \n0  This ultracomfortable lace-to-toe Oxford boast...  \n1  Protect your floors from spills and splashing ...  \n2  She'll love the bright colors, ruffles and exc...  \n3  Whether you're going for a swim or heading out...  \n4  Our new TEK O2 technology makes our four-seaso...  ",
      "text/html": "<div>\n<style scoped>\n    .dataframe tbody tr th:only-of-type {\n        vertical-align: middle;\n    }\n\n    .dataframe tbody tr th {\n        vertical-align: top;\n    }\n\n    .dataframe thead th {\n        text-align: right;\n    }\n</style>\n<table border=\"1\" class=\"dataframe\">\n  <thead>\n    <tr style=\"text-align: right;\">\n      <th></th>\n      <th>name</th>\n      <th>description</th>\n    </tr>\n  </thead>\n  <tbody>\n    <tr>\n      <th>0</th>\n      <td>Women's Campside Oxfords</td>\n      <td>This ultracomfortable lace-to-toe Oxford boast...</td>\n    </tr>\n    <tr>\n      <th>1</th>\n      <td>Recycled Waterhog Dog Mat, Chevron Weave</td>\n      <td>Protect your floors from spills and splashing ...</td>\n    </tr>\n    <tr>\n      <th>2</th>\n      <td>Infant and Toddler Girls' Coastal Chill Swimsu...</td>\n      <td>She'll love the bright colors, ruffles and exc...</td>\n    </tr>\n    <tr>\n      <th>3</th>\n      <td>Refresh Swimwear, V-Neck Tankini Contrasts</td>\n      <td>Whether you're going for a swim or heading out...</td>\n    </tr>\n    <tr>\n      <th>4</th>\n      <td>EcoFlex 3L Storm Pants</td>\n      <td>Our new TEK O2 technology makes our four-seaso...</td>\n    </tr>\n  </tbody>\n</table>\n</div>"
     },
     "execution_count": 2,
     "metadata": {},
     "output_type": "execute_result"
    }
   ],
   "source": [
    "from langchain.chains import RetrievalQA  #检索QA链，在文档上进行检索\n",
    "from langchain.chat_models import ChatOpenAI  #openai模型\n",
    "from langchain.document_loaders import CSVLoader #文档加载器，采用csv格式存储\n",
    "from langchain.vectorstores import DocArrayInMemorySearch  #向量存储\n",
    "from IPython.display import display, Markdown #在jupyter显示信息的工具\n",
    "import pandas as pd\n",
    "\n",
    "file = './data/OutdoorClothingCatalog_1000.csv'\n",
    "\n",
    "# 使用langchain文档加载器对数据进行导入\n",
    "loader = CSVLoader(file_path=file)\n",
    "\n",
    "# 使用pandas导入数据，用以查看\n",
    "data = pd.read_csv(file,usecols=[1, 2])\n",
    "data.head()"
   ],
   "metadata": {
    "collapsed": false,
    "ExecuteTime": {
     "end_time": "2024-03-15T07:32:18.435125Z",
     "start_time": "2024-03-15T07:32:18.342070Z"
    }
   },
   "id": "3559e9f3c84e26cc"
  },
  {
   "cell_type": "code",
   "execution_count": 3,
   "outputs": [
    {
     "name": "stderr",
     "output_type": "stream",
     "text": [
      "/Library/Frameworks/Python.framework/Versions/3.11/lib/python3.11/site-packages/langchain_core/_api/deprecation.py:117: LangChainDeprecationWarning: The class `langchain_community.embeddings.openai.OpenAIEmbeddings` was deprecated in langchain-community 0.0.9 and will be removed in 0.2.0. An updated version of the class exists in the langchain-openai package and should be used instead. To use it run `pip install -U langchain-openai` and import as `from langchain_openai import OpenAIEmbeddings`.\n",
      "  warn_deprecated(\n",
      "2024-03-15 15:32:57.068572: I tensorflow/core/platform/cpu_feature_guard.cc:182] This TensorFlow binary is optimized to use available CPU instructions in performance-critical operations.\n",
      "To enable the following instructions: AVX2 FMA, in other operations, rebuild TensorFlow with the appropriate compiler flags.\n",
      "/Library/Frameworks/Python.framework/Versions/3.11/lib/python3.11/site-packages/pydantic/_migration.py:283: UserWarning: `pydantic.error_wrappers:ValidationError` has been moved to `pydantic:ValidationError`.\n",
      "  warnings.warn(f'`{import_path}` has been moved to `{new_location}`.')\n"
     ]
    }
   ],
   "source": [
    "#导入向量存储索引创建器\n",
    "from langchain.indexes import VectorstoreIndexCreator \n",
    "\n",
    "# 创建指定向量存储类, 创建完成后，从加载器中调用, 通过文档加载器列表加载\n",
    "index = VectorstoreIndexCreator(vectorstore_cls=DocArrayInMemorySearch).from_loaders([loader])"
   ],
   "metadata": {
    "collapsed": false,
    "ExecuteTime": {
     "end_time": "2024-03-15T07:33:37.632886Z",
     "start_time": "2024-03-15T07:32:44.285133Z"
    }
   },
   "id": "20c752309b436b83"
  },
  {
   "cell_type": "code",
   "execution_count": 4,
   "outputs": [
    {
     "data": {
      "text/plain": "<IPython.core.display.Markdown object>",
      "text/markdown": "\n\n| 衬衫名称 | 描述总结 |\n| --- | --- |\n| Men's Tropical Plaid Short-Sleeve Shirt | 100% polyester, UPF 50+ sun protection, wrinkle-resistant, front and back cape venting, two front bellows pockets, imported |\n| Men's Plaid Tropic Shirt, Short-Sleeve | 52% polyester, 48% nylon, UPF 50+ sun protection, SunSmart technology, wrinkle-free, front and back cape venting, two front bellows pockets, imported |\n| Girls' Ocean Breeze Long-Sleeve Stripe Shirt | Nylon Lycra®-elastane blend, UPF 50+ sun protection, quick-drying, fade-resistant, durable seawater-resistant fabric, coordinates with swimsuits, imported |"
     },
     "metadata": {},
     "output_type": "display_data"
    }
   ],
   "source": [
    "query =\"请用markdown表格的方式列出所有具有防晒功能的衬衫，对每件衬衫描述进行总结\"\n",
    "\n",
    "#使用索引查询创建一个响应，并传入这个查询\n",
    "response = index.query(query)\n",
    "\n",
    "#查看查询返回的内容\n",
    "display(Markdown(response))"
   ],
   "metadata": {
    "collapsed": false,
    "ExecuteTime": {
     "end_time": "2024-03-15T07:36:42.998088Z",
     "start_time": "2024-03-15T07:36:36.669067Z"
    }
   },
   "id": "597a1553a09be19"
  },
  {
   "cell_type": "code",
   "execution_count": 8,
   "outputs": [
    {
     "data": {
      "text/plain": "Document(page_content=\": 0\\nname: Women's Campside Oxfords\\ndescription: This ultracomfortable lace-to-toe Oxford boasts a super-soft canvas, thick cushioning, and quality construction for a broken-in feel from the first time you put them on. \\n\\nSize & Fit: Order regular shoe size. For half sizes not offered, order up to next whole size. \\n\\nSpecs: Approx. weight: 1 lb.1 oz. per pair. \\n\\nConstruction: Soft canvas material for a broken-in feel and look. Comfortable EVA innersole with Cleansport NXT® antimicrobial odor control. Vintage hunt, fish and camping motif on innersole. Moderate arch contour of innersole. EVA foam midsole for cushioning and support. Chain-tread-inspired molded rubber outsole with modified chain-tread pattern. Imported. \\n\\nQuestions? Please contact us for any inquiries.\", metadata={'source': './data/OutdoorClothingCatalog_1000.csv', 'row': 0})"
     },
     "execution_count": 8,
     "metadata": {},
     "output_type": "execute_result"
    }
   ],
   "source": [
    "#创建一个文档加载器，通过csv格式加载\n",
    "file = './data/OutdoorClothingCatalog_1000.csv'\n",
    "loader = CSVLoader(file_path=file)\n",
    "docs = loader.load()\n",
    "\n",
    "#查看单个文档，每个文档对应于CSV中的一行数据\n",
    "docs[0]"
   ],
   "metadata": {
    "collapsed": false,
    "ExecuteTime": {
     "end_time": "2024-03-15T07:41:36.346221Z",
     "start_time": "2024-03-15T07:41:36.279133Z"
    }
   },
   "id": "988245cb0054fd3b"
  },
  {
   "cell_type": "code",
   "execution_count": 9,
   "outputs": [
    {
     "name": "stdout",
     "output_type": "stream",
     "text": [
      "\n",
      "\u001B[32m向量表征的长度: \u001B[0m \n",
      " 1536\n",
      "\n",
      "\u001B[32m向量表征前5个元素: \u001B[0m \n",
      " [-0.01931950839094474, -0.006699711893054907, -0.007517367872624899, -0.02442827792540216, -0.026596016709149642]\n"
     ]
    }
   ],
   "source": [
    "#使用OpenAIEmbedding类\n",
    "from langchain.embeddings import OpenAIEmbeddings \n",
    "\n",
    "embeddings = OpenAIEmbeddings() \n",
    "\n",
    "#因为文档比较短了，所以这里不需要进行任何分块,可以直接进行向量表征\n",
    "#使用初始化OpenAIEmbedding实例上的查询方法embed_query为文本创建向量表征\n",
    "embed = embeddings.embed_query(\"你好呀，我的名字叫小可爱\")\n",
    "\n",
    "#查看得到向量表征的长度\n",
    "print(\"\\n\\033[32m向量表征的长度: \\033[0m \\n\", len(embed))\n",
    "\n",
    "#每个元素都是不同的数字值，组合起来就是文本的向量表征\n",
    "print(\"\\n\\033[32m向量表征前5个元素: \\033[0m \\n\", embed[:5])"
   ],
   "metadata": {
    "collapsed": false,
    "ExecuteTime": {
     "end_time": "2024-03-15T07:41:43.720081Z",
     "start_time": "2024-03-15T07:41:41.518171Z"
    }
   },
   "id": "c477827d24e97860"
  },
  {
   "cell_type": "code",
   "execution_count": 10,
   "outputs": [
    {
     "name": "stdout",
     "output_type": "stream",
     "text": [
      "\n",
      "\u001B[32m返回文档的个数: \u001B[0m \n",
      " 4\n",
      "\n",
      "\u001B[32m第一个文档: \u001B[0m \n",
      " page_content=\": 535\\nname: Men's TropicVibe Shirt, Short-Sleeve\\ndescription: This Men’s sun-protection shirt with built-in UPF 50+ has the lightweight feel you want and the coverage you need when the air is hot and the UV rays are strong. Size & Fit: Traditional Fit: Relaxed through the chest, sleeve and waist. Fabric & Care: Shell: 71% Nylon, 29% Polyester. Lining: 100% Polyester knit mesh. UPF 50+ rated – the highest rated sun protection possible. Machine wash and dry. Additional Features: Wrinkle resistant. Front and back cape venting lets in cool breezes. Two front bellows pockets. Imported.\\n\\nSun Protection That Won't Wear Off: Our high-performance fabric provides SPF 50+ sun protection, blocking 98% of the sun's harmful rays.\" metadata={'source': './data/OutdoorClothingCatalog_1000.csv', 'row': 535}\n"
     ]
    }
   ],
   "source": [
    "# 将刚才创建文本向量表征(embeddings)存储在向量存储(vector store)中\n",
    "# 使用DocArrayInMemorySearch类的from_documents方法来实现\n",
    "# 该方法接受文档列表以及向量表征模型作为输入\n",
    "db = DocArrayInMemorySearch.from_documents(docs, embeddings)\n",
    "\n",
    "query = \"请推荐一件具有防晒功能的衬衫\"\n",
    "#使用上面的向量存储来查找与传入查询类似的文本，得到一个相似文档列表\n",
    "docs = db.similarity_search(query)\n",
    "print(\"\\n\\033[32m返回文档的个数: \\033[0m \\n\", len(docs))\n",
    "print(\"\\n\\033[32m第一个文档: \\033[0m \\n\", docs[0])"
   ],
   "metadata": {
    "collapsed": false,
    "ExecuteTime": {
     "end_time": "2024-03-15T07:42:00.679337Z",
     "start_time": "2024-03-15T07:41:51.094778Z"
    }
   },
   "id": "7eb40fad1e58b07a"
  },
  {
   "cell_type": "code",
   "execution_count": 15,
   "outputs": [
    {
     "data": {
      "text/plain": "<IPython.core.display.Markdown object>",
      "text/markdown": "| 衣服名称 | 描述总结 |\n| --- | --- |\n| Men's TropicVibe Shirt, Short-Sleeve | 男士短袖衬衫，内置UPF 50+防晒功能，轻盈舒适，前后通风口，两个前口袋，防皱，最高级别的防晒保护。 |\n| Men's Tropical Plaid Short-Sleeve Shirt | 男士短袖衬衫，UPF 50+防晒，100%聚酯纤维，防皱，前后通风口，两个前口袋，最高级别的防晒保护。 |\n| Men's Plaid Tropic Shirt, Short-Sleeve | 男士短袖衬衫，UPF 50+防晒，52%聚酯纤维和48%尼龙，防皱，前后通风口，两个前口袋，最高级别的防晒保护。 |\n| Girls' Ocean Breeze Long-Sleeve Stripe Shirt | 女童长袖衬衫，UPF 50+防晒，尼龙Lycra®-弹性纤维混纺，快干，耐褪色，耐海水，与我们的泳衣系列搭配，最高级别的防晒保护。 |"
     },
     "metadata": {},
     "output_type": "display_data"
    }
   ],
   "source": [
    "#导入大语言模型, 这里使用默认模型gpt-3.5-turbo会出现504服务器超时，\n",
    "#因此使用gpt-3.5-turbo-0301\n",
    "llm = ChatOpenAI(model_name=\"gpt-3.5-turbo-0301\",temperature = 0.0) \n",
    "\n",
    "#合并获得的相似文档内容\n",
    "qdocs = \"\".join([docs[i].page_content for i in range(len(docs))])  \n",
    "\n",
    "\n",
    "#将合并的相似文档内容后加上问题（question）输入到 `llm.call_as_llm`中\n",
    "#这里问题是：以Markdown表格的方式列出所有具有防晒功能的衬衫并总结 \n",
    "response = llm.call_as_llm(f\"{qdocs}问题：请用markdown表格的方式列出所有具有防晒功能的衬衫，对每件衬衫描述进行总结\") \n",
    "\n",
    "display(Markdown(response))"
   ],
   "metadata": {
    "collapsed": false,
    "ExecuteTime": {
     "end_time": "2024-03-15T08:01:18.848185Z",
     "start_time": "2024-03-15T08:01:06.180094Z"
    }
   },
   "id": "649ad0c2135257cb"
  },
  {
   "cell_type": "markdown",
   "source": [
    "### 2.5 使用检索问答链来回答问题\n",
    "\n",
    "通过LangChain创建一个检索问答链，对检索到的文档进行问题回答。检索问答链的输入包含以下\n",
    "- `llm`: 语言模型，进行文本生成\n",
    "- `chain_type`: 传入链类型，这里使用stuff，将所有查询得到的文档组合成一个文档传入下一步。其他的方式包括：\n",
    "    -  Map Reduce： 将所有块与问题一起传递给语言模型，获取回复，使用另一个语言模型调用将所有单独的回复总结成最终答案，它可以在任意数量的文档上运行。可以并行处理单个问题，同时也需要更多的调用。它将所有文档视为独立的\n",
    "    - Refine： 用于循环许多文档，际上是迭代的，建立在先前文档的答案之上，非常适合前后因果信息并随时间逐步构建答案，依赖于先前调用的结果。它通常需要更长的时间，并且基本上需要与Map Reduce一样多的调用\n",
    "    - Map Re-rank： 对每个文档进行单个语言模型调用，要求它返回一个分数，选择最高分，这依赖于语言模型知道分数应该是什么，需要告诉它，如果它与文档相关，则应该是高分，并在那里精细调整说明，可以批量处理它们相对较快，但是更加昂贵\n",
    "  \n",
    "![](../../../figures/docs/C3/3_additional%20methods.png)\n",
    "  \n",
    "- `retriever`:检索器"
   ],
   "metadata": {
    "collapsed": false
   },
   "id": "7a11ae0e90024d8e"
  },
  {
   "cell_type": "code",
   "execution_count": 14,
   "outputs": [
    {
     "name": "stdout",
     "output_type": "stream",
     "text": [
      "\n",
      "\n",
      "\u001B[1m> Entering new RetrievalQA chain...\u001B[0m\n",
      "\n",
      "\u001B[1m> Finished chain.\u001B[0m\n"
     ]
    },
    {
     "data": {
      "text/plain": "<IPython.core.display.Markdown object>",
      "text/markdown": "| 编号 | 名称 | 描述 |\n| --- | --- | --- |\n| 618 | Men's Tropical Plaid Short-Sleeve Shirt | 100%聚酯纤维制成，轻便，防皱，前后背部有通风口，两个前面的扩张袋口，UPF 50+防晒等级，可阻挡98%的紫外线 |\n| 374 | Men's Plaid Tropic Shirt, Short-Sleeve | 52%聚酯纤维和48%尼龙制成，轻便，防皱，前后背部有通风口，两个前面的扩张袋口，UPF 50+防晒等级，可阻挡98%的紫外线 |\n| 293 | Girls' Ocean Breeze Long-Sleeve Stripe Shirt | 尼龙Lycra®-弹性纤维混纺，长袖，UPF 50+防晒等级，可阻挡98%的紫外线，快干，不褪色，耐海水，建议由皮肤癌基金会作为有效的紫外线防护剂 |\n| 535 | Men's TropicVibe Shirt, Short-Sleeve | 71%尼龙和29%聚酯纤维制成，轻便，防皱，前后背部有通风口，两个前面的扩张袋口，UPF 50+防晒等级，可阻挡98%的紫外线 |\n\n总结：这四件衬衫都具有防晒功能，防晒等级为UPF 50+，可阻挡98%的紫外线。它们都是轻便的，防皱的，有前后背部通风口和前面的扩张袋口。其中三件衬衫是短袖的，一件是长袖的，适合不同的季节和场合。其中一件女孩的衬衫由皮肤癌基金会推荐作为有效的紫外线防护剂。"
     },
     "metadata": {},
     "output_type": "display_data"
    }
   ],
   "source": [
    "#基于向量储存，创建检索器\n",
    "retriever = db.as_retriever() \n",
    "\n",
    "qa_stuff = RetrievalQA.from_chain_type(\n",
    "    llm=llm, \n",
    "    chain_type=\"stuff\", \n",
    "    retriever=retriever, \n",
    "    verbose=True\n",
    ")\n",
    "\n",
    "#创建一个查询并在此查询上运行链\n",
    "query =  \"请用markdown表格的方式列出所有具有防晒功能的衬衫，对每件衬衫描述进行总结\"\n",
    "\n",
    "response = qa_stuff.run(query)\n",
    "\n",
    "display(Markdown(response)) "
   ],
   "metadata": {
    "collapsed": false,
    "ExecuteTime": {
     "end_time": "2024-03-15T07:59:47.928793Z",
     "start_time": "2024-03-15T07:59:29.191098Z"
    }
   },
   "id": "d72682f40e4e88b7"
  },
  {
   "cell_type": "code",
   "execution_count": null,
   "outputs": [],
   "source": [],
   "metadata": {
    "collapsed": false
   },
   "id": "dab60ed76f9ec66a"
  }
 ],
 "metadata": {
  "kernelspec": {
   "display_name": "Python 3",
   "language": "python",
   "name": "python3"
  },
  "language_info": {
   "codemirror_mode": {
    "name": "ipython",
    "version": 2
   },
   "file_extension": ".py",
   "mimetype": "text/x-python",
   "name": "python",
   "nbconvert_exporter": "python",
   "pygments_lexer": "ipython2",
   "version": "2.7.6"
  }
 },
 "nbformat": 4,
 "nbformat_minor": 5
}
